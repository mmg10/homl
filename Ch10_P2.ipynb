{
 "cells": [
  {
   "cell_type": "code",
   "execution_count": 1,
   "metadata": {
    "ExecuteTime": {
     "end_time": "2021-02-25T06:43:50.067738Z",
     "start_time": "2021-02-25T06:43:49.816841Z"
    }
   },
   "outputs": [],
   "source": [
    "# Imports\n",
    "\n",
    "import torch\n",
    "import torch.nn as nn\n",
    "import torchvision\n",
    "import torchvision.transforms as transforms\n",
    "import numpy as np\n",
    "import matplotlib.pyplot as plt\n",
    "from tqdm.notebook import tqdm\n"
   ]
  },
  {
   "cell_type": "markdown",
   "metadata": {},
   "source": [
    "# Regression Task in PyTorch"
   ]
  },
  {
   "cell_type": "code",
   "execution_count": 2,
   "metadata": {
    "ExecuteTime": {
     "end_time": "2021-02-25T06:43:51.158155Z",
     "start_time": "2021-02-25T06:43:50.069223Z"
    }
   },
   "outputs": [],
   "source": [
    "from sklearn.datasets import fetch_california_housing\n",
    "from sklearn.model_selection import train_test_split\n",
    "from sklearn.preprocessing import StandardScaler"
   ]
  },
  {
   "cell_type": "code",
   "execution_count": 3,
   "metadata": {
    "ExecuteTime": {
     "end_time": "2021-02-25T06:43:51.403163Z",
     "start_time": "2021-02-25T06:43:51.159925Z"
    }
   },
   "outputs": [],
   "source": [
    "housing = fetch_california_housing()\n",
    "x_train, x_test, y_train, y_test = train_test_split(housing.data, housing.target)"
   ]
  },
  {
   "cell_type": "code",
   "execution_count": 4,
   "metadata": {
    "ExecuteTime": {
     "end_time": "2021-02-25T06:43:51.413377Z",
     "start_time": "2021-02-25T06:43:51.406328Z"
    }
   },
   "outputs": [
    {
     "data": {
      "text/plain": [
       "numpy.ndarray"
      ]
     },
     "execution_count": 4,
     "metadata": {},
     "output_type": "execute_result"
    }
   ],
   "source": [
    "type(x_train)"
   ]
  },
  {
   "cell_type": "code",
   "execution_count": 5,
   "metadata": {
    "ExecuteTime": {
     "end_time": "2021-02-25T06:43:51.500500Z",
     "start_time": "2021-02-25T06:43:51.415053Z"
    }
   },
   "outputs": [],
   "source": [
    "scaler = StandardScaler()\n",
    "x_train = scaler.fit_transform(x_train)\n",
    "x_test = scaler.transform(x_test)"
   ]
  },
  {
   "cell_type": "code",
   "execution_count": 6,
   "metadata": {
    "ExecuteTime": {
     "end_time": "2021-02-25T06:43:51.593657Z",
     "start_time": "2021-02-25T06:43:51.503017Z"
    }
   },
   "outputs": [],
   "source": [
    "x_train = torch.from_numpy(x_train.astype(np.float32))\n",
    "x_test = torch.from_numpy(x_test.astype(np.float32))\n",
    "y_train = torch.from_numpy(y_train.reshape(-1,1).astype(np.float32))\n",
    "y_test = torch.from_numpy(y_test.reshape(-1,1).astype(np.float32))"
   ]
  },
  {
   "cell_type": "code",
   "execution_count": 7,
   "metadata": {
    "ExecuteTime": {
     "end_time": "2021-02-25T06:43:51.656103Z",
     "start_time": "2021-02-25T06:43:51.595190Z"
    }
   },
   "outputs": [
    {
     "data": {
      "text/plain": [
       "(torch.Size([15480, 8]),\n",
       " torch.Size([15480, 1]),\n",
       " torch.Size([5160, 8]),\n",
       " torch.Size([5160, 1]))"
      ]
     },
     "execution_count": 7,
     "metadata": {},
     "output_type": "execute_result"
    }
   ],
   "source": [
    "x_train.shape, y_train.shape, x_test.shape, y_test.shape"
   ]
  },
  {
   "cell_type": "code",
   "execution_count": 8,
   "metadata": {
    "ExecuteTime": {
     "end_time": "2021-02-25T06:43:51.703655Z",
     "start_time": "2021-02-25T06:43:51.658297Z"
    }
   },
   "outputs": [],
   "source": [
    "# y_test.squeeze().shape"
   ]
  },
  {
   "cell_type": "code",
   "execution_count": 9,
   "metadata": {
    "ExecuteTime": {
     "end_time": "2021-02-25T06:43:51.753439Z",
     "start_time": "2021-02-25T06:43:51.705727Z"
    }
   },
   "outputs": [],
   "source": [
    "train_dataset = torch.utils.data.TensorDataset(x_train, y_train)\n",
    "test_dataset = torch.utils.data.TensorDataset(x_test, y_test)"
   ]
  },
  {
   "cell_type": "code",
   "execution_count": 10,
   "metadata": {
    "ExecuteTime": {
     "end_time": "2021-02-25T06:43:51.801823Z",
     "start_time": "2021-02-25T06:43:51.754788Z"
    }
   },
   "outputs": [],
   "source": [
    "batch_size = 32 # The default in Keras\n",
    "train_loader = torch.utils.data.DataLoader(\n",
    "                        dataset=train_dataset,\n",
    "                        batch_size=batch_size,\n",
    "                        shuffle=False\n",
    "                        )\n",
    "\n",
    "\n",
    "test_loader = torch.utils.data.DataLoader(\n",
    "                        dataset=test_dataset,\n",
    "                        batch_size=batch_size,\n",
    "                        shuffle=False # Not necessary!\n",
    "                        )"
   ]
  },
  {
   "cell_type": "code",
   "execution_count": 11,
   "metadata": {
    "ExecuteTime": {
     "end_time": "2021-02-25T06:43:51.851676Z",
     "start_time": "2021-02-25T06:43:51.803194Z"
    }
   },
   "outputs": [],
   "source": [
    "class Model_Reg(nn.Module):\n",
    "    def __init__(self, I):\n",
    "        super(Model_Reg, self).__init__()\n",
    "        self.linear1 = nn.Linear(I, 30)\n",
    "        self.relu = nn.ReLU()\n",
    "        self.linear2 = nn.Linear(30, 1)\n",
    "            \n",
    "    def forward(self, X):\n",
    "        out = self.linear1(X)\n",
    "        out = self.relu(out)\n",
    "        out = self.linear2(out)\n",
    "        return out"
   ]
  },
  {
   "cell_type": "code",
   "execution_count": 12,
   "metadata": {
    "ExecuteTime": {
     "end_time": "2021-02-25T06:43:51.916751Z",
     "start_time": "2021-02-25T06:43:51.853052Z"
    }
   },
   "outputs": [
    {
     "name": "stdout",
     "output_type": "stream",
     "text": [
      "----------------------------------------------------------------\n",
      "        Layer (type)               Output Shape         Param #\n",
      "================================================================\n",
      "            Linear-1                [-1, 1, 30]             270\n",
      "              ReLU-2                [-1, 1, 30]               0\n",
      "            Linear-3                 [-1, 1, 1]              31\n",
      "================================================================\n",
      "Total params: 301\n",
      "Trainable params: 301\n",
      "Non-trainable params: 0\n",
      "----------------------------------------------------------------\n",
      "Input size (MB): 0.00\n",
      "Forward/backward pass size (MB): 0.00\n",
      "Params size (MB): 0.00\n",
      "Estimated Total Size (MB): 0.00\n",
      "----------------------------------------------------------------\n"
     ]
    }
   ],
   "source": [
    "modelr = Model_Reg(x_train.shape[1:][0])\n",
    "from torchsummary import summary\n",
    "summary(modelr, (1,x_train.shape[1:][0]))\n"
   ]
  },
  {
   "cell_type": "code",
   "execution_count": 13,
   "metadata": {
    "ExecuteTime": {
     "end_time": "2021-02-25T06:43:51.964832Z",
     "start_time": "2021-02-25T06:43:51.917999Z"
    }
   },
   "outputs": [
    {
     "name": "stdout",
     "output_type": "stream",
     "text": [
      "cpu\n"
     ]
    },
    {
     "data": {
      "text/plain": [
       "Model_Reg(\n",
       "  (linear1): Linear(in_features=8, out_features=30, bias=True)\n",
       "  (relu): ReLU()\n",
       "  (linear2): Linear(in_features=30, out_features=1, bias=True)\n",
       ")"
      ]
     },
     "execution_count": 13,
     "metadata": {},
     "output_type": "execute_result"
    }
   ],
   "source": [
    "# If GPU...\n",
    "device = torch.device(\"cuda:0\" if torch.cuda.is_available() else \"cpu\")\n",
    "print(device)\n",
    "modelr.to(device)"
   ]
  },
  {
   "cell_type": "code",
   "execution_count": 14,
   "metadata": {
    "ExecuteTime": {
     "end_time": "2021-02-25T06:43:52.010884Z",
     "start_time": "2021-02-25T06:43:51.966501Z"
    }
   },
   "outputs": [],
   "source": [
    "loss_fn = nn.MSELoss()\n",
    "optimizer = torch.optim.SGD(modelr.parameters(), lr=0.001)"
   ]
  },
  {
   "cell_type": "code",
   "execution_count": 15,
   "metadata": {
    "ExecuteTime": {
     "end_time": "2021-02-25T06:43:52.061436Z",
     "start_time": "2021-02-25T06:43:52.012500Z"
    }
   },
   "outputs": [],
   "source": [
    "class PyTorchTrainer_Reg(object):\n",
    "    def __init__(self,\n",
    "                model,\n",
    "                optim,\n",
    "                loss_fn,\n",
    "                device=\"cpu\"):\n",
    "        self.model = model\n",
    "        self.optim = optim\n",
    "        self.loss_fn = loss_fn\n",
    "        self.device = device\n",
    "        \n",
    "    def fit(self,\n",
    "            train_loader,\n",
    "            test_loader,\n",
    "            n_epochs: int=100,\n",
    "            eval_inter: int=1):\n",
    "        history = {}\n",
    "        history['epoch'] = []\n",
    "        history['training_loss'] = []\n",
    "        history['test_loss'] = []\n",
    "        \n",
    "        # Training Loop\n",
    "\n",
    "        history['p_test'] = []\n",
    "        history['x_test'] = test_loader.dataset[:][0]\n",
    "        history['y_test'] = test_loader.dataset[:][1]\n",
    "        p_test = np.array([]) # for listing all predictions - last epoch only\n",
    "\n",
    "        for epoch in range(n_epochs):\n",
    "            history['epoch'].append(epoch+1)\n",
    "            self.model.train()\n",
    "            train_loss = []\n",
    "            \n",
    "            for inputs, targets in tqdm(train_loader, leave=False):\n",
    "                # Move data to GPU\n",
    "                inputs, targets = inputs.to(self.device), targets.to(self.device)\n",
    "\n",
    "                # zero the gradient\n",
    "                self.optim.zero_grad()\n",
    "\n",
    "                # forward pass\n",
    "                outputs = self.model(inputs)\n",
    "                loss = self.loss_fn(outputs, targets)\n",
    "\n",
    "                # backward pass and optimize\n",
    "                loss.backward()\n",
    "                self.optim.step()\n",
    "\n",
    "                train_loss.append(loss.item())\n",
    "\n",
    "            train_loss = np.mean(train_loss)\n",
    "            \n",
    "            # save losses\n",
    "            history['training_loss'].append(train_loss) \n",
    "    \n",
    "            test_loss = []\n",
    "            \n",
    "            self.model.eval()\n",
    "            with torch.no_grad():\n",
    "                for inputs, targets in test_loader:\n",
    "                    # Move data to GPU\n",
    "                    inputs, targets = inputs.to(self.device), targets.to(self.device)\n",
    "\n",
    "                    # forward pass\n",
    "                    outputs_test = self.model(inputs)\n",
    "                    loss_test = self.loss_fn(outputs_test, targets)\n",
    "\n",
    "                    # update list of predictions  - done for last epoch only!\n",
    "                    if epoch == (n_epochs - 1):\n",
    "                        history['p_test'] = outputs_test.numpy()\n",
    "\n",
    "\n",
    "                    test_loss.append(loss_test.item())\n",
    "            history['p_test'] = p_test\n",
    "            test_loss = np.mean(test_loss)\n",
    "            # save losses\n",
    "            history['test_loss'].append(test_loss) \n",
    "            \n",
    "            if (epoch +1) % eval_inter == 0:\n",
    "                print(f\"Epoch: {epoch+1}/{n_epochs}, Train Loss: {history['training_loss'][-1]:.4f}, Test Loss: {history['test_loss'][-1]:.4f}\", end='')\n",
    "        return history\n",
    "                \n",
    "            "
   ]
  },
  {
   "cell_type": "code",
   "execution_count": 16,
   "metadata": {
    "ExecuteTime": {
     "end_time": "2021-02-25T06:43:52.121782Z",
     "start_time": "2021-02-25T06:43:52.063820Z"
    }
   },
   "outputs": [],
   "source": [
    "trainer = PyTorchTrainer_Reg(modelr, optimizer, loss_fn,device)"
   ]
  },
  {
   "cell_type": "code",
   "execution_count": 17,
   "metadata": {
    "ExecuteTime": {
     "end_time": "2021-02-25T06:44:00.332642Z",
     "start_time": "2021-02-25T06:43:52.123173Z"
    }
   },
   "outputs": [
    {
     "data": {
      "application/vnd.jupyter.widget-view+json": {
       "model_id": "",
       "version_major": 2,
       "version_minor": 0
      },
      "text/plain": [
       "  0%|          | 0/484 [00:00<?, ?it/s]"
      ]
     },
     "metadata": {},
     "output_type": "display_data"
    },
    {
     "name": "stdout",
     "output_type": "stream",
     "text": [
      "Epoch: 1/20, Train Loss: 1.9475, Test Loss: 0.9817"
     ]
    },
    {
     "data": {
      "application/vnd.jupyter.widget-view+json": {
       "model_id": "",
       "version_major": 2,
       "version_minor": 0
      },
      "text/plain": [
       "  0%|          | 0/484 [00:00<?, ?it/s]"
      ]
     },
     "metadata": {},
     "output_type": "display_data"
    },
    {
     "name": "stdout",
     "output_type": "stream",
     "text": [
      "Epoch: 2/20, Train Loss: 0.7646, Test Loss: 0.7147"
     ]
    },
    {
     "data": {
      "application/vnd.jupyter.widget-view+json": {
       "model_id": "",
       "version_major": 2,
       "version_minor": 0
      },
      "text/plain": [
       "  0%|          | 0/484 [00:00<?, ?it/s]"
      ]
     },
     "metadata": {},
     "output_type": "display_data"
    },
    {
     "name": "stdout",
     "output_type": "stream",
     "text": [
      "Epoch: 3/20, Train Loss: 0.6666, Test Loss: 0.6757"
     ]
    },
    {
     "data": {
      "application/vnd.jupyter.widget-view+json": {
       "model_id": "",
       "version_major": 2,
       "version_minor": 0
      },
      "text/plain": [
       "  0%|          | 0/484 [00:00<?, ?it/s]"
      ]
     },
     "metadata": {},
     "output_type": "display_data"
    },
    {
     "name": "stdout",
     "output_type": "stream",
     "text": [
      "Epoch: 4/20, Train Loss: 0.6293, Test Loss: 0.6448"
     ]
    },
    {
     "data": {
      "application/vnd.jupyter.widget-view+json": {
       "model_id": "",
       "version_major": 2,
       "version_minor": 0
      },
      "text/plain": [
       "  0%|          | 0/484 [00:00<?, ?it/s]"
      ]
     },
     "metadata": {},
     "output_type": "display_data"
    },
    {
     "name": "stdout",
     "output_type": "stream",
     "text": [
      "Epoch: 5/20, Train Loss: 0.5987, Test Loss: 0.6160"
     ]
    },
    {
     "data": {
      "application/vnd.jupyter.widget-view+json": {
       "model_id": "",
       "version_major": 2,
       "version_minor": 0
      },
      "text/plain": [
       "  0%|          | 0/484 [00:00<?, ?it/s]"
      ]
     },
     "metadata": {},
     "output_type": "display_data"
    },
    {
     "name": "stdout",
     "output_type": "stream",
     "text": [
      "Epoch: 6/20, Train Loss: 0.5719, Test Loss: 0.5909"
     ]
    },
    {
     "data": {
      "application/vnd.jupyter.widget-view+json": {
       "model_id": "",
       "version_major": 2,
       "version_minor": 0
      },
      "text/plain": [
       "  0%|          | 0/484 [00:00<?, ?it/s]"
      ]
     },
     "metadata": {},
     "output_type": "display_data"
    },
    {
     "name": "stdout",
     "output_type": "stream",
     "text": [
      "Epoch: 7/20, Train Loss: 0.5492, Test Loss: 0.5702"
     ]
    },
    {
     "data": {
      "application/vnd.jupyter.widget-view+json": {
       "model_id": "",
       "version_major": 2,
       "version_minor": 0
      },
      "text/plain": [
       "  0%|          | 0/484 [00:00<?, ?it/s]"
      ]
     },
     "metadata": {},
     "output_type": "display_data"
    },
    {
     "name": "stdout",
     "output_type": "stream",
     "text": [
      "Epoch: 8/20, Train Loss: 0.5302, Test Loss: 0.5533"
     ]
    },
    {
     "data": {
      "application/vnd.jupyter.widget-view+json": {
       "model_id": "",
       "version_major": 2,
       "version_minor": 0
      },
      "text/plain": [
       "  0%|          | 0/484 [00:00<?, ?it/s]"
      ]
     },
     "metadata": {},
     "output_type": "display_data"
    },
    {
     "name": "stdout",
     "output_type": "stream",
     "text": [
      "Epoch: 9/20, Train Loss: 0.5147, Test Loss: 0.5400"
     ]
    },
    {
     "data": {
      "application/vnd.jupyter.widget-view+json": {
       "model_id": "",
       "version_major": 2,
       "version_minor": 0
      },
      "text/plain": [
       "  0%|          | 0/484 [00:00<?, ?it/s]"
      ]
     },
     "metadata": {},
     "output_type": "display_data"
    },
    {
     "name": "stdout",
     "output_type": "stream",
     "text": [
      "Epoch: 10/20, Train Loss: 0.5022, Test Loss: 0.5293"
     ]
    },
    {
     "data": {
      "application/vnd.jupyter.widget-view+json": {
       "model_id": "",
       "version_major": 2,
       "version_minor": 0
      },
      "text/plain": [
       "  0%|          | 0/484 [00:00<?, ?it/s]"
      ]
     },
     "metadata": {},
     "output_type": "display_data"
    },
    {
     "name": "stdout",
     "output_type": "stream",
     "text": [
      "Epoch: 11/20, Train Loss: 0.4921, Test Loss: 0.5209"
     ]
    },
    {
     "data": {
      "application/vnd.jupyter.widget-view+json": {
       "model_id": "",
       "version_major": 2,
       "version_minor": 0
      },
      "text/plain": [
       "  0%|          | 0/484 [00:00<?, ?it/s]"
      ]
     },
     "metadata": {},
     "output_type": "display_data"
    },
    {
     "name": "stdout",
     "output_type": "stream",
     "text": [
      "Epoch: 12/20, Train Loss: 0.4839, Test Loss: 0.5142"
     ]
    },
    {
     "data": {
      "application/vnd.jupyter.widget-view+json": {
       "model_id": "",
       "version_major": 2,
       "version_minor": 0
      },
      "text/plain": [
       "  0%|          | 0/484 [00:00<?, ?it/s]"
      ]
     },
     "metadata": {},
     "output_type": "display_data"
    },
    {
     "name": "stdout",
     "output_type": "stream",
     "text": [
      "Epoch: 13/20, Train Loss: 0.4774, Test Loss: 0.5087"
     ]
    },
    {
     "data": {
      "application/vnd.jupyter.widget-view+json": {
       "model_id": "",
       "version_major": 2,
       "version_minor": 0
      },
      "text/plain": [
       "  0%|          | 0/484 [00:00<?, ?it/s]"
      ]
     },
     "metadata": {},
     "output_type": "display_data"
    },
    {
     "name": "stdout",
     "output_type": "stream",
     "text": [
      "Epoch: 14/20, Train Loss: 0.4721, Test Loss: 0.5041"
     ]
    },
    {
     "data": {
      "application/vnd.jupyter.widget-view+json": {
       "model_id": "",
       "version_major": 2,
       "version_minor": 0
      },
      "text/plain": [
       "  0%|          | 0/484 [00:00<?, ?it/s]"
      ]
     },
     "metadata": {},
     "output_type": "display_data"
    },
    {
     "name": "stdout",
     "output_type": "stream",
     "text": [
      "Epoch: 15/20, Train Loss: 0.4676, Test Loss: 0.5002"
     ]
    },
    {
     "data": {
      "application/vnd.jupyter.widget-view+json": {
       "model_id": "",
       "version_major": 2,
       "version_minor": 0
      },
      "text/plain": [
       "  0%|          | 0/484 [00:00<?, ?it/s]"
      ]
     },
     "metadata": {},
     "output_type": "display_data"
    },
    {
     "name": "stdout",
     "output_type": "stream",
     "text": [
      "Epoch: 16/20, Train Loss: 0.4638, Test Loss: 0.4967"
     ]
    },
    {
     "data": {
      "application/vnd.jupyter.widget-view+json": {
       "model_id": "",
       "version_major": 2,
       "version_minor": 0
      },
      "text/plain": [
       "  0%|          | 0/484 [00:00<?, ?it/s]"
      ]
     },
     "metadata": {},
     "output_type": "display_data"
    },
    {
     "name": "stdout",
     "output_type": "stream",
     "text": [
      "Epoch: 17/20, Train Loss: 0.4605, Test Loss: 0.4934"
     ]
    },
    {
     "data": {
      "application/vnd.jupyter.widget-view+json": {
       "model_id": "",
       "version_major": 2,
       "version_minor": 0
      },
      "text/plain": [
       "  0%|          | 0/484 [00:00<?, ?it/s]"
      ]
     },
     "metadata": {},
     "output_type": "display_data"
    },
    {
     "name": "stdout",
     "output_type": "stream",
     "text": [
      "Epoch: 18/20, Train Loss: 0.4576, Test Loss: 0.4905"
     ]
    },
    {
     "data": {
      "application/vnd.jupyter.widget-view+json": {
       "model_id": "",
       "version_major": 2,
       "version_minor": 0
      },
      "text/plain": [
       "  0%|          | 0/484 [00:00<?, ?it/s]"
      ]
     },
     "metadata": {},
     "output_type": "display_data"
    },
    {
     "name": "stdout",
     "output_type": "stream",
     "text": [
      "Epoch: 19/20, Train Loss: 0.4550, Test Loss: 0.4877"
     ]
    },
    {
     "data": {
      "application/vnd.jupyter.widget-view+json": {
       "model_id": "",
       "version_major": 2,
       "version_minor": 0
      },
      "text/plain": [
       "  0%|          | 0/484 [00:00<?, ?it/s]"
      ]
     },
     "metadata": {},
     "output_type": "display_data"
    },
    {
     "name": "stdout",
     "output_type": "stream",
     "text": [
      "Epoch: 20/20, Train Loss: 0.4526, Test Loss: 0.4851"
     ]
    }
   ],
   "source": [
    "history={}\n",
    "history = trainer.fit(train_loader, test_loader,20,1)"
   ]
  },
  {
   "cell_type": "markdown",
   "metadata": {},
   "source": [
    "# Skip Connections"
   ]
  },
  {
   "cell_type": "code",
   "execution_count": 18,
   "metadata": {
    "ExecuteTime": {
     "end_time": "2021-02-25T06:44:00.337866Z",
     "start_time": "2021-02-25T06:44:00.334000Z"
    }
   },
   "outputs": [],
   "source": [
    "class Model_Reg_SC(nn.Module):\n",
    "    def __init__(self, I):\n",
    "        super(Model_Reg_SC, self).__init__()\n",
    "        self.linear1 = nn.Linear(I, 30)\n",
    "        self.relu = nn.ReLU()\n",
    "        self.linear2 = nn.Linear(30, 30)\n",
    "        self.linear3 = nn.Linear(38,1)\n",
    "            \n",
    "    def forward(self, X):\n",
    "        out = self.linear1(X)\n",
    "        out = self.relu(out)\n",
    "        out = self.linear2(out)\n",
    "        out = self.relu(out)\n",
    "        out = torch.cat((out,X), dim=-1)\n",
    "        out = self.linear3(out)\n",
    "        return out"
   ]
  },
  {
   "cell_type": "code",
   "execution_count": 19,
   "metadata": {
    "ExecuteTime": {
     "end_time": "2021-02-25T06:44:00.423129Z",
     "start_time": "2021-02-25T06:44:00.339603Z"
    }
   },
   "outputs": [
    {
     "name": "stdout",
     "output_type": "stream",
     "text": [
      "----------------------------------------------------------------\n",
      "        Layer (type)               Output Shape         Param #\n",
      "================================================================\n",
      "            Linear-1                [-1, 1, 30]             270\n",
      "              ReLU-2                [-1, 1, 30]               0\n",
      "            Linear-3                [-1, 1, 30]             930\n",
      "              ReLU-4                [-1, 1, 30]               0\n",
      "            Linear-5                 [-1, 1, 1]              39\n",
      "================================================================\n",
      "Total params: 1,239\n",
      "Trainable params: 1,239\n",
      "Non-trainable params: 0\n",
      "----------------------------------------------------------------\n",
      "Input size (MB): 0.00\n",
      "Forward/backward pass size (MB): 0.00\n",
      "Params size (MB): 0.00\n",
      "Estimated Total Size (MB): 0.01\n",
      "----------------------------------------------------------------\n"
     ]
    }
   ],
   "source": [
    "modelr_sc = Model_Reg_SC(x_train.shape[1:][0])\n",
    "from torchsummary import summary\n",
    "summary(modelr_sc, (1,x_train.shape[1:][0]))"
   ]
  },
  {
   "cell_type": "code",
   "execution_count": 20,
   "metadata": {
    "ExecuteTime": {
     "end_time": "2021-02-25T06:44:00.464083Z",
     "start_time": "2021-02-25T06:44:00.424877Z"
    }
   },
   "outputs": [],
   "source": [
    "loss_fn = nn.MSELoss()\n",
    "optimizer = torch.optim.SGD(modelr_sc.parameters(), lr=0.001)"
   ]
  },
  {
   "cell_type": "code",
   "execution_count": 21,
   "metadata": {
    "ExecuteTime": {
     "end_time": "2021-02-25T06:44:10.606372Z",
     "start_time": "2021-02-25T06:44:00.465509Z"
    }
   },
   "outputs": [
    {
     "data": {
      "application/vnd.jupyter.widget-view+json": {
       "model_id": "",
       "version_major": 2,
       "version_minor": 0
      },
      "text/plain": [
       "  0%|          | 0/484 [00:00<?, ?it/s]"
      ]
     },
     "metadata": {},
     "output_type": "display_data"
    },
    {
     "name": "stdout",
     "output_type": "stream",
     "text": [
      "Epoch: 1/20, Train Loss: 2.0801, Test Loss: 0.8087"
     ]
    },
    {
     "data": {
      "application/vnd.jupyter.widget-view+json": {
       "model_id": "",
       "version_major": 2,
       "version_minor": 0
      },
      "text/plain": [
       "  0%|          | 0/484 [00:00<?, ?it/s]"
      ]
     },
     "metadata": {},
     "output_type": "display_data"
    },
    {
     "name": "stdout",
     "output_type": "stream",
     "text": [
      "Epoch: 2/20, Train Loss: 0.6777, Test Loss: 0.6668"
     ]
    },
    {
     "data": {
      "application/vnd.jupyter.widget-view+json": {
       "model_id": "",
       "version_major": 2,
       "version_minor": 0
      },
      "text/plain": [
       "  0%|          | 0/484 [00:00<?, ?it/s]"
      ]
     },
     "metadata": {},
     "output_type": "display_data"
    },
    {
     "name": "stdout",
     "output_type": "stream",
     "text": [
      "Epoch: 3/20, Train Loss: 0.6267, Test Loss: 0.6399"
     ]
    },
    {
     "data": {
      "application/vnd.jupyter.widget-view+json": {
       "model_id": "",
       "version_major": 2,
       "version_minor": 0
      },
      "text/plain": [
       "  0%|          | 0/484 [00:00<?, ?it/s]"
      ]
     },
     "metadata": {},
     "output_type": "display_data"
    },
    {
     "name": "stdout",
     "output_type": "stream",
     "text": [
      "Epoch: 4/20, Train Loss: 0.6017, Test Loss: 0.6189"
     ]
    },
    {
     "data": {
      "application/vnd.jupyter.widget-view+json": {
       "model_id": "",
       "version_major": 2,
       "version_minor": 0
      },
      "text/plain": [
       "  0%|          | 0/484 [00:00<?, ?it/s]"
      ]
     },
     "metadata": {},
     "output_type": "display_data"
    },
    {
     "name": "stdout",
     "output_type": "stream",
     "text": [
      "Epoch: 5/20, Train Loss: 0.5821, Test Loss: 0.6022"
     ]
    },
    {
     "data": {
      "application/vnd.jupyter.widget-view+json": {
       "model_id": "",
       "version_major": 2,
       "version_minor": 0
      },
      "text/plain": [
       "  0%|          | 0/484 [00:00<?, ?it/s]"
      ]
     },
     "metadata": {},
     "output_type": "display_data"
    },
    {
     "name": "stdout",
     "output_type": "stream",
     "text": [
      "Epoch: 6/20, Train Loss: 0.5663, Test Loss: 0.5887"
     ]
    },
    {
     "data": {
      "application/vnd.jupyter.widget-view+json": {
       "model_id": "",
       "version_major": 2,
       "version_minor": 0
      },
      "text/plain": [
       "  0%|          | 0/484 [00:00<?, ?it/s]"
      ]
     },
     "metadata": {},
     "output_type": "display_data"
    },
    {
     "name": "stdout",
     "output_type": "stream",
     "text": [
      "Epoch: 7/20, Train Loss: 0.5531, Test Loss: 0.5774"
     ]
    },
    {
     "data": {
      "application/vnd.jupyter.widget-view+json": {
       "model_id": "",
       "version_major": 2,
       "version_minor": 0
      },
      "text/plain": [
       "  0%|          | 0/484 [00:00<?, ?it/s]"
      ]
     },
     "metadata": {},
     "output_type": "display_data"
    },
    {
     "name": "stdout",
     "output_type": "stream",
     "text": [
      "Epoch: 8/20, Train Loss: 0.5422, Test Loss: 0.5680"
     ]
    },
    {
     "data": {
      "application/vnd.jupyter.widget-view+json": {
       "model_id": "",
       "version_major": 2,
       "version_minor": 0
      },
      "text/plain": [
       "  0%|          | 0/484 [00:00<?, ?it/s]"
      ]
     },
     "metadata": {},
     "output_type": "display_data"
    },
    {
     "name": "stdout",
     "output_type": "stream",
     "text": [
      "Epoch: 9/20, Train Loss: 0.5329, Test Loss: 0.5600"
     ]
    },
    {
     "data": {
      "application/vnd.jupyter.widget-view+json": {
       "model_id": "",
       "version_major": 2,
       "version_minor": 0
      },
      "text/plain": [
       "  0%|          | 0/484 [00:00<?, ?it/s]"
      ]
     },
     "metadata": {},
     "output_type": "display_data"
    },
    {
     "name": "stdout",
     "output_type": "stream",
     "text": [
      "Epoch: 10/20, Train Loss: 0.5249, Test Loss: 0.5530"
     ]
    },
    {
     "data": {
      "application/vnd.jupyter.widget-view+json": {
       "model_id": "",
       "version_major": 2,
       "version_minor": 0
      },
      "text/plain": [
       "  0%|          | 0/484 [00:00<?, ?it/s]"
      ]
     },
     "metadata": {},
     "output_type": "display_data"
    },
    {
     "name": "stdout",
     "output_type": "stream",
     "text": [
      "Epoch: 11/20, Train Loss: 0.5180, Test Loss: 0.5468"
     ]
    },
    {
     "data": {
      "application/vnd.jupyter.widget-view+json": {
       "model_id": "",
       "version_major": 2,
       "version_minor": 0
      },
      "text/plain": [
       "  0%|          | 0/484 [00:00<?, ?it/s]"
      ]
     },
     "metadata": {},
     "output_type": "display_data"
    },
    {
     "name": "stdout",
     "output_type": "stream",
     "text": [
      "Epoch: 12/20, Train Loss: 0.5120, Test Loss: 0.5413"
     ]
    },
    {
     "data": {
      "application/vnd.jupyter.widget-view+json": {
       "model_id": "",
       "version_major": 2,
       "version_minor": 0
      },
      "text/plain": [
       "  0%|          | 0/484 [00:00<?, ?it/s]"
      ]
     },
     "metadata": {},
     "output_type": "display_data"
    },
    {
     "name": "stdout",
     "output_type": "stream",
     "text": [
      "Epoch: 13/20, Train Loss: 0.5067, Test Loss: 0.5362"
     ]
    },
    {
     "data": {
      "application/vnd.jupyter.widget-view+json": {
       "model_id": "",
       "version_major": 2,
       "version_minor": 0
      },
      "text/plain": [
       "  0%|          | 0/484 [00:00<?, ?it/s]"
      ]
     },
     "metadata": {},
     "output_type": "display_data"
    },
    {
     "name": "stdout",
     "output_type": "stream",
     "text": [
      "Epoch: 14/20, Train Loss: 0.5019, Test Loss: 0.5316"
     ]
    },
    {
     "data": {
      "application/vnd.jupyter.widget-view+json": {
       "model_id": "",
       "version_major": 2,
       "version_minor": 0
      },
      "text/plain": [
       "  0%|          | 0/484 [00:00<?, ?it/s]"
      ]
     },
     "metadata": {},
     "output_type": "display_data"
    },
    {
     "name": "stdout",
     "output_type": "stream",
     "text": [
      "Epoch: 15/20, Train Loss: 0.4976, Test Loss: 0.5272"
     ]
    },
    {
     "data": {
      "application/vnd.jupyter.widget-view+json": {
       "model_id": "",
       "version_major": 2,
       "version_minor": 0
      },
      "text/plain": [
       "  0%|          | 0/484 [00:00<?, ?it/s]"
      ]
     },
     "metadata": {},
     "output_type": "display_data"
    },
    {
     "name": "stdout",
     "output_type": "stream",
     "text": [
      "Epoch: 16/20, Train Loss: 0.4937, Test Loss: 0.5231"
     ]
    },
    {
     "data": {
      "application/vnd.jupyter.widget-view+json": {
       "model_id": "",
       "version_major": 2,
       "version_minor": 0
      },
      "text/plain": [
       "  0%|          | 0/484 [00:00<?, ?it/s]"
      ]
     },
     "metadata": {},
     "output_type": "display_data"
    },
    {
     "name": "stdout",
     "output_type": "stream",
     "text": [
      "Epoch: 17/20, Train Loss: 0.4901, Test Loss: 0.5192"
     ]
    },
    {
     "data": {
      "application/vnd.jupyter.widget-view+json": {
       "model_id": "",
       "version_major": 2,
       "version_minor": 0
      },
      "text/plain": [
       "  0%|          | 0/484 [00:00<?, ?it/s]"
      ]
     },
     "metadata": {},
     "output_type": "display_data"
    },
    {
     "name": "stdout",
     "output_type": "stream",
     "text": [
      "Epoch: 18/20, Train Loss: 0.4867, Test Loss: 0.5156"
     ]
    },
    {
     "data": {
      "application/vnd.jupyter.widget-view+json": {
       "model_id": "",
       "version_major": 2,
       "version_minor": 0
      },
      "text/plain": [
       "  0%|          | 0/484 [00:00<?, ?it/s]"
      ]
     },
     "metadata": {},
     "output_type": "display_data"
    },
    {
     "name": "stdout",
     "output_type": "stream",
     "text": [
      "Epoch: 19/20, Train Loss: 0.4835, Test Loss: 0.5122"
     ]
    },
    {
     "data": {
      "application/vnd.jupyter.widget-view+json": {
       "model_id": "",
       "version_major": 2,
       "version_minor": 0
      },
      "text/plain": [
       "  0%|          | 0/484 [00:00<?, ?it/s]"
      ]
     },
     "metadata": {},
     "output_type": "display_data"
    },
    {
     "name": "stdout",
     "output_type": "stream",
     "text": [
      "Epoch: 20/20, Train Loss: 0.4804, Test Loss: 0.5088"
     ]
    }
   ],
   "source": [
    "trainer = PyTorchTrainer_Reg(modelr_sc, optimizer, loss_fn,device)\n",
    "history={}\n",
    "history = trainer.fit(train_loader, test_loader,20,1)"
   ]
  },
  {
   "cell_type": "markdown",
   "metadata": {},
   "source": [
    "# Multiple Inputs and Skip Connections"
   ]
  },
  {
   "cell_type": "code",
   "execution_count": 22,
   "metadata": {
    "ExecuteTime": {
     "end_time": "2021-02-25T06:44:10.610943Z",
     "start_time": "2021-02-25T06:44:10.607818Z"
    }
   },
   "outputs": [],
   "source": [
    "x_train_A, x_train_B = x_train[:, :5], x_train[:, 2:]\n",
    "x_test_A, x_test_B = x_test[:, :5], x_test[:, 2:]\n",
    "\n",
    "\n",
    "train_dataset = torch.utils.data.TensorDataset(x_train_A, x_train_B, y_train)\n",
    "test_dataset = torch.utils.data.TensorDataset(x_test_A, x_test_B, y_test)"
   ]
  },
  {
   "cell_type": "code",
   "execution_count": 23,
   "metadata": {
    "ExecuteTime": {
     "end_time": "2021-02-25T06:44:10.673164Z",
     "start_time": "2021-02-25T06:44:10.614455Z"
    }
   },
   "outputs": [],
   "source": [
    "batch_size = 32 # The default in Keras\n",
    "train_loader = torch.utils.data.DataLoader(\n",
    "                        dataset=train_dataset,\n",
    "                        batch_size=batch_size,\n",
    "                        shuffle=False\n",
    "                        )\n",
    "\n",
    "\n",
    "test_loader = torch.utils.data.DataLoader(\n",
    "                        dataset=test_dataset,\n",
    "                        batch_size=batch_size,\n",
    "                        shuffle=False # Not necessary!\n",
    "                        )"
   ]
  },
  {
   "cell_type": "code",
   "execution_count": 24,
   "metadata": {
    "ExecuteTime": {
     "end_time": "2021-02-25T06:44:10.722546Z",
     "start_time": "2021-02-25T06:44:10.675961Z"
    }
   },
   "outputs": [],
   "source": [
    "class Model_Reg_SCMI(nn.Module):\n",
    "    def __init__(self, Ia, Ib):\n",
    "        super(Model_Reg_SCMI, self).__init__()\n",
    "        self.linear1b = nn.Linear(Ib, 30)\n",
    "        self.relu = nn.ReLU()\n",
    "        self.linear2b = nn.Linear(30, 30)\n",
    "        self.linear3 = nn.Linear(35,1)\n",
    "            \n",
    "    def forward(self, Xa, Xb):\n",
    "        out = self.linear1b(Xb)\n",
    "        out = self.relu(out)\n",
    "        out = self.linear2b(out)\n",
    "        out = self.relu(out)\n",
    "        out = torch.cat((Xa,out), dim=-1)\n",
    "        out = self.linear3(out)\n",
    "        return out"
   ]
  },
  {
   "cell_type": "code",
   "execution_count": 25,
   "metadata": {
    "ExecuteTime": {
     "end_time": "2021-02-25T06:44:10.791418Z",
     "start_time": "2021-02-25T06:44:10.724030Z"
    }
   },
   "outputs": [
    {
     "name": "stdout",
     "output_type": "stream",
     "text": [
      "----------------------------------------------------------------\n",
      "        Layer (type)               Output Shape         Param #\n",
      "================================================================\n",
      "            Linear-1                [-1, 1, 30]             210\n",
      "              ReLU-2                [-1, 1, 30]               0\n",
      "            Linear-3                [-1, 1, 30]             930\n",
      "              ReLU-4                [-1, 1, 30]               0\n",
      "            Linear-5                 [-1, 1, 1]              36\n",
      "================================================================\n",
      "Total params: 1,176\n",
      "Trainable params: 1,176\n",
      "Non-trainable params: 0\n",
      "----------------------------------------------------------------\n",
      "Input size (MB): 0.00\n",
      "Forward/backward pass size (MB): 0.00\n",
      "Params size (MB): 0.00\n",
      "Estimated Total Size (MB): 0.01\n",
      "----------------------------------------------------------------\n"
     ]
    }
   ],
   "source": [
    "modelr_scmi = Model_Reg_SCMI(5,6)\n",
    "\n",
    "from torchsummary import summary\n",
    "summary(modelr_scmi, [(1,5), (1,6)])"
   ]
  },
  {
   "cell_type": "code",
   "execution_count": 26,
   "metadata": {
    "ExecuteTime": {
     "end_time": "2021-02-25T06:44:10.832098Z",
     "start_time": "2021-02-25T06:44:10.793230Z"
    }
   },
   "outputs": [],
   "source": [
    "loss_fn = nn.MSELoss()\n",
    "optimizer = torch.optim.SGD(modelr_scmi.parameters(), lr=0.001)"
   ]
  },
  {
   "cell_type": "code",
   "execution_count": 27,
   "metadata": {
    "ExecuteTime": {
     "end_time": "2021-02-25T06:44:10.882486Z",
     "start_time": "2021-02-25T06:44:10.833560Z"
    }
   },
   "outputs": [],
   "source": [
    "class PyTorchTrainer_RegMI(object):\n",
    "    def __init__(self,\n",
    "                model,\n",
    "                optim,\n",
    "                loss_fn,\n",
    "                device=\"cpu\"):\n",
    "        self.model = model\n",
    "        self.optim = optim\n",
    "        self.loss_fn = loss_fn\n",
    "        self.device = device\n",
    "        \n",
    "    def fit(self,\n",
    "            train_loader,\n",
    "            test_loader,\n",
    "            n_epochs: int=100,\n",
    "            eval_inter: int=1):\n",
    "        history = {}\n",
    "        history['epoch'] = []\n",
    "        history['training_loss'] = []\n",
    "        history['test_loss'] = []\n",
    "        \n",
    "        # Training Loop\n",
    "\n",
    "        history['p_test'] = []\n",
    "        history['x_test'] = test_loader.dataset[:][0]\n",
    "        history['y_test'] = test_loader.dataset[:][1]\n",
    "        p_test = np.array([]) # for listing all predictions - last epoch only\n",
    "\n",
    "        for epoch in range(n_epochs):\n",
    "            history['epoch'].append(epoch+1)\n",
    "            self.model.train()\n",
    "            train_loss = []\n",
    "            \n",
    "            for inputa, inputb, targets in tqdm(train_loader, leave=False):\n",
    "                # Move data to GPU\n",
    "                inputa, inputb, targets = inputa.to(self.device), inputb.to(self.device), targets.to(self.device)\n",
    "\n",
    "                # zero the gradient\n",
    "                self.optim.zero_grad()\n",
    "\n",
    "                # forward pass\n",
    "                outputs = self.model(inputa, inputb)\n",
    "                loss = self.loss_fn(outputs, targets)\n",
    "\n",
    "                # backward pass and optimize\n",
    "                loss.backward()\n",
    "                self.optim.step()\n",
    "\n",
    "                train_loss.append(loss.item())\n",
    "\n",
    "            train_loss = np.mean(train_loss)\n",
    "            \n",
    "            # save losses\n",
    "            history['training_loss'].append(train_loss) \n",
    "    \n",
    "            test_loss = []\n",
    "            self.model.eval()\n",
    "            with torch.no_grad():\n",
    "                for inputa, inputb, targets in test_loader:\n",
    "                    # Move data to GPU\n",
    "                    inputa, inputb, targets = inputa.to(self.device), inputb.to(self.device), targets.to(self.device)\n",
    "\n",
    "                    # forward pass\n",
    "                    outputs_test = self.model(inputa, inputb)\n",
    "                    loss_test = self.loss_fn(outputs_test, targets)\n",
    "\n",
    "                    # update list of predictions  - done for last epoch only!\n",
    "                    if epoch == (n_epochs - 1):\n",
    "                        history['p_test'] = outputs_test.detach().numpy()\n",
    "\n",
    "\n",
    "                    test_loss.append(loss_test.item())\n",
    "            history['p_test'] = p_test\n",
    "            test_loss = np.mean(test_loss)\n",
    "            # save losses\n",
    "            history['test_loss'].append(test_loss) \n",
    "            \n",
    "            if (epoch +1) % eval_inter == 0:\n",
    "                print(f\"Epoch: {epoch+1}/{n_epochs}, Train Loss: {history['training_loss'][-1]:.4f}, Test Loss: {history['test_loss'][-1]:.4f}\", end='')\n",
    "        return history\n",
    "                \n",
    "            "
   ]
  },
  {
   "cell_type": "code",
   "execution_count": 28,
   "metadata": {
    "ExecuteTime": {
     "end_time": "2021-02-25T06:44:22.156549Z",
     "start_time": "2021-02-25T06:44:10.883912Z"
    }
   },
   "outputs": [
    {
     "data": {
      "application/vnd.jupyter.widget-view+json": {
       "model_id": "",
       "version_major": 2,
       "version_minor": 0
      },
      "text/plain": [
       "  0%|          | 0/484 [00:00<?, ?it/s]"
      ]
     },
     "metadata": {},
     "output_type": "display_data"
    },
    {
     "name": "stdout",
     "output_type": "stream",
     "text": [
      "Epoch: 1/20, Train Loss: 2.1336, Test Loss: 0.9036"
     ]
    },
    {
     "data": {
      "application/vnd.jupyter.widget-view+json": {
       "model_id": "",
       "version_major": 2,
       "version_minor": 0
      },
      "text/plain": [
       "  0%|          | 0/484 [00:00<?, ?it/s]"
      ]
     },
     "metadata": {},
     "output_type": "display_data"
    },
    {
     "name": "stdout",
     "output_type": "stream",
     "text": [
      "Epoch: 2/20, Train Loss: 0.7401, Test Loss: 0.6857"
     ]
    },
    {
     "data": {
      "application/vnd.jupyter.widget-view+json": {
       "model_id": "",
       "version_major": 2,
       "version_minor": 0
      },
      "text/plain": [
       "  0%|          | 0/484 [00:00<?, ?it/s]"
      ]
     },
     "metadata": {},
     "output_type": "display_data"
    },
    {
     "name": "stdout",
     "output_type": "stream",
     "text": [
      "Epoch: 3/20, Train Loss: 0.6520, Test Loss: 0.6458"
     ]
    },
    {
     "data": {
      "application/vnd.jupyter.widget-view+json": {
       "model_id": "",
       "version_major": 2,
       "version_minor": 0
      },
      "text/plain": [
       "  0%|          | 0/484 [00:00<?, ?it/s]"
      ]
     },
     "metadata": {},
     "output_type": "display_data"
    },
    {
     "name": "stdout",
     "output_type": "stream",
     "text": [
      "Epoch: 4/20, Train Loss: 0.6171, Test Loss: 0.6207"
     ]
    },
    {
     "data": {
      "application/vnd.jupyter.widget-view+json": {
       "model_id": "",
       "version_major": 2,
       "version_minor": 0
      },
      "text/plain": [
       "  0%|          | 0/484 [00:00<?, ?it/s]"
      ]
     },
     "metadata": {},
     "output_type": "display_data"
    },
    {
     "name": "stdout",
     "output_type": "stream",
     "text": [
      "Epoch: 5/20, Train Loss: 0.5928, Test Loss: 0.6015"
     ]
    },
    {
     "data": {
      "application/vnd.jupyter.widget-view+json": {
       "model_id": "",
       "version_major": 2,
       "version_minor": 0
      },
      "text/plain": [
       "  0%|          | 0/484 [00:00<?, ?it/s]"
      ]
     },
     "metadata": {},
     "output_type": "display_data"
    },
    {
     "name": "stdout",
     "output_type": "stream",
     "text": [
      "Epoch: 6/20, Train Loss: 0.5735, Test Loss: 0.5857"
     ]
    },
    {
     "data": {
      "application/vnd.jupyter.widget-view+json": {
       "model_id": "",
       "version_major": 2,
       "version_minor": 0
      },
      "text/plain": [
       "  0%|          | 0/484 [00:00<?, ?it/s]"
      ]
     },
     "metadata": {},
     "output_type": "display_data"
    },
    {
     "name": "stdout",
     "output_type": "stream",
     "text": [
      "Epoch: 7/20, Train Loss: 0.5574, Test Loss: 0.5725"
     ]
    },
    {
     "data": {
      "application/vnd.jupyter.widget-view+json": {
       "model_id": "",
       "version_major": 2,
       "version_minor": 0
      },
      "text/plain": [
       "  0%|          | 0/484 [00:00<?, ?it/s]"
      ]
     },
     "metadata": {},
     "output_type": "display_data"
    },
    {
     "name": "stdout",
     "output_type": "stream",
     "text": [
      "Epoch: 8/20, Train Loss: 0.5438, Test Loss: 0.5615"
     ]
    },
    {
     "data": {
      "application/vnd.jupyter.widget-view+json": {
       "model_id": "",
       "version_major": 2,
       "version_minor": 0
      },
      "text/plain": [
       "  0%|          | 0/484 [00:00<?, ?it/s]"
      ]
     },
     "metadata": {},
     "output_type": "display_data"
    },
    {
     "name": "stdout",
     "output_type": "stream",
     "text": [
      "Epoch: 9/20, Train Loss: 0.5322, Test Loss: 0.5522"
     ]
    },
    {
     "data": {
      "application/vnd.jupyter.widget-view+json": {
       "model_id": "",
       "version_major": 2,
       "version_minor": 0
      },
      "text/plain": [
       "  0%|          | 0/484 [00:00<?, ?it/s]"
      ]
     },
     "metadata": {},
     "output_type": "display_data"
    },
    {
     "name": "stdout",
     "output_type": "stream",
     "text": [
      "Epoch: 10/20, Train Loss: 0.5224, Test Loss: 0.5443"
     ]
    },
    {
     "data": {
      "application/vnd.jupyter.widget-view+json": {
       "model_id": "",
       "version_major": 2,
       "version_minor": 0
      },
      "text/plain": [
       "  0%|          | 0/484 [00:00<?, ?it/s]"
      ]
     },
     "metadata": {},
     "output_type": "display_data"
    },
    {
     "name": "stdout",
     "output_type": "stream",
     "text": [
      "Epoch: 11/20, Train Loss: 0.5141, Test Loss: 0.5375"
     ]
    },
    {
     "data": {
      "application/vnd.jupyter.widget-view+json": {
       "model_id": "",
       "version_major": 2,
       "version_minor": 0
      },
      "text/plain": [
       "  0%|          | 0/484 [00:00<?, ?it/s]"
      ]
     },
     "metadata": {},
     "output_type": "display_data"
    },
    {
     "name": "stdout",
     "output_type": "stream",
     "text": [
      "Epoch: 12/20, Train Loss: 0.5071, Test Loss: 0.5316"
     ]
    },
    {
     "data": {
      "application/vnd.jupyter.widget-view+json": {
       "model_id": "",
       "version_major": 2,
       "version_minor": 0
      },
      "text/plain": [
       "  0%|          | 0/484 [00:00<?, ?it/s]"
      ]
     },
     "metadata": {},
     "output_type": "display_data"
    },
    {
     "name": "stdout",
     "output_type": "stream",
     "text": [
      "Epoch: 13/20, Train Loss: 0.5011, Test Loss: 0.5262"
     ]
    },
    {
     "data": {
      "application/vnd.jupyter.widget-view+json": {
       "model_id": "",
       "version_major": 2,
       "version_minor": 0
      },
      "text/plain": [
       "  0%|          | 0/484 [00:00<?, ?it/s]"
      ]
     },
     "metadata": {},
     "output_type": "display_data"
    },
    {
     "name": "stdout",
     "output_type": "stream",
     "text": [
      "Epoch: 14/20, Train Loss: 0.4958, Test Loss: 0.5214"
     ]
    },
    {
     "data": {
      "application/vnd.jupyter.widget-view+json": {
       "model_id": "",
       "version_major": 2,
       "version_minor": 0
      },
      "text/plain": [
       "  0%|          | 0/484 [00:00<?, ?it/s]"
      ]
     },
     "metadata": {},
     "output_type": "display_data"
    },
    {
     "name": "stdout",
     "output_type": "stream",
     "text": [
      "Epoch: 15/20, Train Loss: 0.4912, Test Loss: 0.5169"
     ]
    },
    {
     "data": {
      "application/vnd.jupyter.widget-view+json": {
       "model_id": "",
       "version_major": 2,
       "version_minor": 0
      },
      "text/plain": [
       "  0%|          | 0/484 [00:00<?, ?it/s]"
      ]
     },
     "metadata": {},
     "output_type": "display_data"
    },
    {
     "name": "stdout",
     "output_type": "stream",
     "text": [
      "Epoch: 16/20, Train Loss: 0.4871, Test Loss: 0.5131"
     ]
    },
    {
     "data": {
      "application/vnd.jupyter.widget-view+json": {
       "model_id": "",
       "version_major": 2,
       "version_minor": 0
      },
      "text/plain": [
       "  0%|          | 0/484 [00:00<?, ?it/s]"
      ]
     },
     "metadata": {},
     "output_type": "display_data"
    },
    {
     "name": "stdout",
     "output_type": "stream",
     "text": [
      "Epoch: 17/20, Train Loss: 0.4833, Test Loss: 0.5096"
     ]
    },
    {
     "data": {
      "application/vnd.jupyter.widget-view+json": {
       "model_id": "",
       "version_major": 2,
       "version_minor": 0
      },
      "text/plain": [
       "  0%|          | 0/484 [00:00<?, ?it/s]"
      ]
     },
     "metadata": {},
     "output_type": "display_data"
    },
    {
     "name": "stdout",
     "output_type": "stream",
     "text": [
      "Epoch: 18/20, Train Loss: 0.4799, Test Loss: 0.5063"
     ]
    },
    {
     "data": {
      "application/vnd.jupyter.widget-view+json": {
       "model_id": "",
       "version_major": 2,
       "version_minor": 0
      },
      "text/plain": [
       "  0%|          | 0/484 [00:00<?, ?it/s]"
      ]
     },
     "metadata": {},
     "output_type": "display_data"
    },
    {
     "name": "stdout",
     "output_type": "stream",
     "text": [
      "Epoch: 19/20, Train Loss: 0.4767, Test Loss: 0.5031"
     ]
    },
    {
     "data": {
      "application/vnd.jupyter.widget-view+json": {
       "model_id": "",
       "version_major": 2,
       "version_minor": 0
      },
      "text/plain": [
       "  0%|          | 0/484 [00:00<?, ?it/s]"
      ]
     },
     "metadata": {},
     "output_type": "display_data"
    },
    {
     "name": "stdout",
     "output_type": "stream",
     "text": [
      "Epoch: 20/20, Train Loss: 0.4737, Test Loss: 0.5002"
     ]
    }
   ],
   "source": [
    "trainer = PyTorchTrainer_RegMI(modelr_scmi, optimizer, loss_fn,device)\n",
    "history={}\n",
    "history = trainer.fit(train_loader, test_loader,20,1)"
   ]
  },
  {
   "cell_type": "markdown",
   "metadata": {},
   "source": [
    "# Multiple Outputs"
   ]
  },
  {
   "cell_type": "code",
   "execution_count": 29,
   "metadata": {
    "ExecuteTime": {
     "end_time": "2021-02-25T06:44:22.162757Z",
     "start_time": "2021-02-25T06:44:22.157883Z"
    }
   },
   "outputs": [],
   "source": [
    "class Model_Reg_SCMIO(nn.Module):\n",
    "    def __init__(self, Ia, Ib):\n",
    "        super(Model_Reg_SCMIO, self).__init__()\n",
    "        self.linear1b = nn.Linear(Ib, 30)\n",
    "        self.relu = nn.ReLU()\n",
    "        self.linear2b = nn.Linear(30, 30)\n",
    "        self.linear3 = nn.Linear(35,1)\n",
    "        self.linear4 = nn.Linear(30,1)\n",
    "            \n",
    "    def forward(self, Xa, Xb):\n",
    "        out = self.linear1b(Xb)\n",
    "        out = self.relu(out)\n",
    "        out = self.linear2b(out)\n",
    "        outa = self.relu(out)\n",
    "        out = torch.cat((Xa,outa), dim=-1)\n",
    "        out = self.linear3(out)\n",
    "        outb = self.linear4(outa)\n",
    "        return out"
   ]
  },
  {
   "cell_type": "code",
   "execution_count": 30,
   "metadata": {
    "ExecuteTime": {
     "end_time": "2021-02-25T06:44:22.225371Z",
     "start_time": "2021-02-25T06:44:22.164469Z"
    }
   },
   "outputs": [
    {
     "name": "stdout",
     "output_type": "stream",
     "text": [
      "----------------------------------------------------------------\n",
      "        Layer (type)               Output Shape         Param #\n",
      "================================================================\n",
      "            Linear-1                [-1, 1, 30]             210\n",
      "              ReLU-2                [-1, 1, 30]               0\n",
      "            Linear-3                [-1, 1, 30]             930\n",
      "              ReLU-4                [-1, 1, 30]               0\n",
      "            Linear-5                 [-1, 1, 1]              36\n",
      "            Linear-6                 [-1, 1, 1]              31\n",
      "================================================================\n",
      "Total params: 1,207\n",
      "Trainable params: 1,207\n",
      "Non-trainable params: 0\n",
      "----------------------------------------------------------------\n",
      "Input size (MB): 0.00\n",
      "Forward/backward pass size (MB): 0.00\n",
      "Params size (MB): 0.00\n",
      "Estimated Total Size (MB): 0.01\n",
      "----------------------------------------------------------------\n"
     ]
    }
   ],
   "source": [
    "modelr_scmio = Model_Reg_SCMIO(5,6)\n",
    "\n",
    "from torchsummary import summary\n",
    "summary(modelr_scmio, [(1,5), (1,6)])"
   ]
  },
  {
   "cell_type": "code",
   "execution_count": 31,
   "metadata": {
    "ExecuteTime": {
     "end_time": "2021-02-25T06:44:22.284973Z",
     "start_time": "2021-02-25T06:44:22.226649Z"
    }
   },
   "outputs": [],
   "source": [
    "loss_fn = nn.MSELoss()\n",
    "optimizer = torch.optim.SGD(modelr_scmio.parameters(), lr=0.001)"
   ]
  },
  {
   "cell_type": "code",
   "execution_count": 32,
   "metadata": {
    "ExecuteTime": {
     "end_time": "2021-02-25T06:44:34.040743Z",
     "start_time": "2021-02-25T06:44:22.288632Z"
    }
   },
   "outputs": [
    {
     "data": {
      "application/vnd.jupyter.widget-view+json": {
       "model_id": "",
       "version_major": 2,
       "version_minor": 0
      },
      "text/plain": [
       "  0%|          | 0/484 [00:00<?, ?it/s]"
      ]
     },
     "metadata": {},
     "output_type": "display_data"
    },
    {
     "name": "stdout",
     "output_type": "stream",
     "text": [
      "Epoch: 1/20, Train Loss: 2.0296, Test Loss: 0.8053"
     ]
    },
    {
     "data": {
      "application/vnd.jupyter.widget-view+json": {
       "model_id": "",
       "version_major": 2,
       "version_minor": 0
      },
      "text/plain": [
       "  0%|          | 0/484 [00:00<?, ?it/s]"
      ]
     },
     "metadata": {},
     "output_type": "display_data"
    },
    {
     "name": "stdout",
     "output_type": "stream",
     "text": [
      "Epoch: 2/20, Train Loss: 0.6861, Test Loss: 0.6618"
     ]
    },
    {
     "data": {
      "application/vnd.jupyter.widget-view+json": {
       "model_id": "",
       "version_major": 2,
       "version_minor": 0
      },
      "text/plain": [
       "  0%|          | 0/484 [00:00<?, ?it/s]"
      ]
     },
     "metadata": {},
     "output_type": "display_data"
    },
    {
     "name": "stdout",
     "output_type": "stream",
     "text": [
      "Epoch: 3/20, Train Loss: 0.6185, Test Loss: 0.6298"
     ]
    },
    {
     "data": {
      "application/vnd.jupyter.widget-view+json": {
       "model_id": "",
       "version_major": 2,
       "version_minor": 0
      },
      "text/plain": [
       "  0%|          | 0/484 [00:00<?, ?it/s]"
      ]
     },
     "metadata": {},
     "output_type": "display_data"
    },
    {
     "name": "stdout",
     "output_type": "stream",
     "text": [
      "Epoch: 4/20, Train Loss: 0.5942, Test Loss: 0.6118"
     ]
    },
    {
     "data": {
      "application/vnd.jupyter.widget-view+json": {
       "model_id": "",
       "version_major": 2,
       "version_minor": 0
      },
      "text/plain": [
       "  0%|          | 0/484 [00:00<?, ?it/s]"
      ]
     },
     "metadata": {},
     "output_type": "display_data"
    },
    {
     "name": "stdout",
     "output_type": "stream",
     "text": [
      "Epoch: 5/20, Train Loss: 0.5773, Test Loss: 0.5981"
     ]
    },
    {
     "data": {
      "application/vnd.jupyter.widget-view+json": {
       "model_id": "",
       "version_major": 2,
       "version_minor": 0
      },
      "text/plain": [
       "  0%|          | 0/484 [00:00<?, ?it/s]"
      ]
     },
     "metadata": {},
     "output_type": "display_data"
    },
    {
     "name": "stdout",
     "output_type": "stream",
     "text": [
      "Epoch: 6/20, Train Loss: 0.5635, Test Loss: 0.5871"
     ]
    },
    {
     "data": {
      "application/vnd.jupyter.widget-view+json": {
       "model_id": "",
       "version_major": 2,
       "version_minor": 0
      },
      "text/plain": [
       "  0%|          | 0/484 [00:00<?, ?it/s]"
      ]
     },
     "metadata": {},
     "output_type": "display_data"
    },
    {
     "name": "stdout",
     "output_type": "stream",
     "text": [
      "Epoch: 7/20, Train Loss: 0.5519, Test Loss: 0.5776"
     ]
    },
    {
     "data": {
      "application/vnd.jupyter.widget-view+json": {
       "model_id": "",
       "version_major": 2,
       "version_minor": 0
      },
      "text/plain": [
       "  0%|          | 0/484 [00:00<?, ?it/s]"
      ]
     },
     "metadata": {},
     "output_type": "display_data"
    },
    {
     "name": "stdout",
     "output_type": "stream",
     "text": [
      "Epoch: 8/20, Train Loss: 0.5419, Test Loss: 0.5693"
     ]
    },
    {
     "data": {
      "application/vnd.jupyter.widget-view+json": {
       "model_id": "",
       "version_major": 2,
       "version_minor": 0
      },
      "text/plain": [
       "  0%|          | 0/484 [00:00<?, ?it/s]"
      ]
     },
     "metadata": {},
     "output_type": "display_data"
    },
    {
     "name": "stdout",
     "output_type": "stream",
     "text": [
      "Epoch: 9/20, Train Loss: 0.5331, Test Loss: 0.5619"
     ]
    },
    {
     "data": {
      "application/vnd.jupyter.widget-view+json": {
       "model_id": "",
       "version_major": 2,
       "version_minor": 0
      },
      "text/plain": [
       "  0%|          | 0/484 [00:00<?, ?it/s]"
      ]
     },
     "metadata": {},
     "output_type": "display_data"
    },
    {
     "name": "stdout",
     "output_type": "stream",
     "text": [
      "Epoch: 10/20, Train Loss: 0.5252, Test Loss: 0.5550"
     ]
    },
    {
     "data": {
      "application/vnd.jupyter.widget-view+json": {
       "model_id": "",
       "version_major": 2,
       "version_minor": 0
      },
      "text/plain": [
       "  0%|          | 0/484 [00:00<?, ?it/s]"
      ]
     },
     "metadata": {},
     "output_type": "display_data"
    },
    {
     "name": "stdout",
     "output_type": "stream",
     "text": [
      "Epoch: 11/20, Train Loss: 0.5180, Test Loss: 0.5482"
     ]
    },
    {
     "data": {
      "application/vnd.jupyter.widget-view+json": {
       "model_id": "",
       "version_major": 2,
       "version_minor": 0
      },
      "text/plain": [
       "  0%|          | 0/484 [00:00<?, ?it/s]"
      ]
     },
     "metadata": {},
     "output_type": "display_data"
    },
    {
     "name": "stdout",
     "output_type": "stream",
     "text": [
      "Epoch: 12/20, Train Loss: 0.5113, Test Loss: 0.5416"
     ]
    },
    {
     "data": {
      "application/vnd.jupyter.widget-view+json": {
       "model_id": "",
       "version_major": 2,
       "version_minor": 0
      },
      "text/plain": [
       "  0%|          | 0/484 [00:00<?, ?it/s]"
      ]
     },
     "metadata": {},
     "output_type": "display_data"
    },
    {
     "name": "stdout",
     "output_type": "stream",
     "text": [
      "Epoch: 13/20, Train Loss: 0.5051, Test Loss: 0.5353"
     ]
    },
    {
     "data": {
      "application/vnd.jupyter.widget-view+json": {
       "model_id": "",
       "version_major": 2,
       "version_minor": 0
      },
      "text/plain": [
       "  0%|          | 0/484 [00:00<?, ?it/s]"
      ]
     },
     "metadata": {},
     "output_type": "display_data"
    },
    {
     "name": "stdout",
     "output_type": "stream",
     "text": [
      "Epoch: 14/20, Train Loss: 0.4993, Test Loss: 0.5294"
     ]
    },
    {
     "data": {
      "application/vnd.jupyter.widget-view+json": {
       "model_id": "",
       "version_major": 2,
       "version_minor": 0
      },
      "text/plain": [
       "  0%|          | 0/484 [00:00<?, ?it/s]"
      ]
     },
     "metadata": {},
     "output_type": "display_data"
    },
    {
     "name": "stdout",
     "output_type": "stream",
     "text": [
      "Epoch: 15/20, Train Loss: 0.4939, Test Loss: 0.5239"
     ]
    },
    {
     "data": {
      "application/vnd.jupyter.widget-view+json": {
       "model_id": "",
       "version_major": 2,
       "version_minor": 0
      },
      "text/plain": [
       "  0%|          | 0/484 [00:00<?, ?it/s]"
      ]
     },
     "metadata": {},
     "output_type": "display_data"
    },
    {
     "name": "stdout",
     "output_type": "stream",
     "text": [
      "Epoch: 16/20, Train Loss: 0.4887, Test Loss: 0.5186"
     ]
    },
    {
     "data": {
      "application/vnd.jupyter.widget-view+json": {
       "model_id": "",
       "version_major": 2,
       "version_minor": 0
      },
      "text/plain": [
       "  0%|          | 0/484 [00:00<?, ?it/s]"
      ]
     },
     "metadata": {},
     "output_type": "display_data"
    },
    {
     "name": "stdout",
     "output_type": "stream",
     "text": [
      "Epoch: 17/20, Train Loss: 0.4839, Test Loss: 0.5134"
     ]
    },
    {
     "data": {
      "application/vnd.jupyter.widget-view+json": {
       "model_id": "",
       "version_major": 2,
       "version_minor": 0
      },
      "text/plain": [
       "  0%|          | 0/484 [00:00<?, ?it/s]"
      ]
     },
     "metadata": {},
     "output_type": "display_data"
    },
    {
     "name": "stdout",
     "output_type": "stream",
     "text": [
      "Epoch: 18/20, Train Loss: 0.4793, Test Loss: 0.5085"
     ]
    },
    {
     "data": {
      "application/vnd.jupyter.widget-view+json": {
       "model_id": "",
       "version_major": 2,
       "version_minor": 0
      },
      "text/plain": [
       "  0%|          | 0/484 [00:00<?, ?it/s]"
      ]
     },
     "metadata": {},
     "output_type": "display_data"
    },
    {
     "name": "stdout",
     "output_type": "stream",
     "text": [
      "Epoch: 19/20, Train Loss: 0.4750, Test Loss: 0.5039"
     ]
    },
    {
     "data": {
      "application/vnd.jupyter.widget-view+json": {
       "model_id": "",
       "version_major": 2,
       "version_minor": 0
      },
      "text/plain": [
       "  0%|          | 0/484 [00:00<?, ?it/s]"
      ]
     },
     "metadata": {},
     "output_type": "display_data"
    },
    {
     "name": "stdout",
     "output_type": "stream",
     "text": [
      "Epoch: 20/20, Train Loss: 0.4709, Test Loss: 0.4996"
     ]
    }
   ],
   "source": [
    "trainer = PyTorchTrainer_RegMI(modelr_scmio, optimizer, loss_fn,device)\n",
    "history={}\n",
    "history = trainer.fit(train_loader, test_loader,20,1)"
   ]
  },
  {
   "cell_type": "markdown",
   "metadata": {},
   "source": [
    "# Saving and Loading Models"
   ]
  },
  {
   "cell_type": "code",
   "execution_count": 33,
   "metadata": {
    "ExecuteTime": {
     "end_time": "2021-02-25T06:44:34.045732Z",
     "start_time": "2021-02-25T06:44:34.042451Z"
    }
   },
   "outputs": [],
   "source": [
    "torch.save(modelr_scmio.state_dict(), 'modelr_scmio.pth')"
   ]
  },
  {
   "cell_type": "markdown",
   "metadata": {},
   "source": [
    "Here, recreate the model as above."
   ]
  },
  {
   "cell_type": "code",
   "execution_count": 34,
   "metadata": {
    "ExecuteTime": {
     "end_time": "2021-02-25T06:44:34.099833Z",
     "start_time": "2021-02-25T06:44:34.047481Z"
    }
   },
   "outputs": [
    {
     "data": {
      "text/plain": [
       "<All keys matched successfully>"
      ]
     },
     "execution_count": 34,
     "metadata": {},
     "output_type": "execute_result"
    }
   ],
   "source": [
    "modelr_scmio.load_state_dict(torch.load('modelr_scmio.pth'))"
   ]
  },
  {
   "cell_type": "markdown",
   "metadata": {},
   "source": [
    "# Callbacks"
   ]
  },
  {
   "cell_type": "markdown",
   "metadata": {},
   "source": [
    "Not applicable; all commands have to be entered in the PyTorch Trainer manually."
   ]
  },
  {
   "cell_type": "markdown",
   "metadata": {},
   "source": [
    "# Hyper-Parameter Tuning - Skorch"
   ]
  },
  {
   "cell_type": "code",
   "execution_count": 35,
   "metadata": {
    "ExecuteTime": {
     "end_time": "2021-02-25T06:44:34.154709Z",
     "start_time": "2021-02-25T06:44:34.101442Z"
    }
   },
   "outputs": [],
   "source": [
    "x_train, x_test, y_train, y_test = train_test_split(housing.data, housing.target)\n",
    "\n",
    "scaler = StandardScaler()\n",
    "x_train = scaler.fit_transform(x_train)\n",
    "x_test = scaler.transform(x_test)\n",
    "\n",
    "x_train, x_test, y_train, y_test = x_train.astype(np.float32), x_test.astype(np.float32), y_train.reshape(-1,1).astype(np.float32), y_test.reshape(-1,1).astype(np.float32)"
   ]
  },
  {
   "cell_type": "code",
   "execution_count": 36,
   "metadata": {
    "ExecuteTime": {
     "end_time": "2021-02-25T06:44:34.196993Z",
     "start_time": "2021-02-25T06:44:34.156077Z"
    }
   },
   "outputs": [],
   "source": [
    "class Model_Reg_HP(nn.Module):\n",
    "    def __init__(self, I=8, n_hidden=1, n_neurons=10):\n",
    "        super(Model_Reg_HP, self).__init__()\n",
    "        self.linear1 = nn.Linear(I, n_neurons)\n",
    "        current_dim = n_neurons\n",
    "        self.layers = nn.ModuleList()\n",
    "        for _ in range(n_hidden):\n",
    "            self.layers.append(nn.Linear(current_dim, n_neurons))\n",
    "            self.layers.append(nn.ReLU())\n",
    "            current_dim = n_neurons\n",
    "        self.relu = nn.ReLU()\n",
    "        self.linear2 = nn.Linear(n_neurons, 1)\n",
    "            \n",
    "    def forward(self, X, **kwargs):\n",
    "        out = self.linear1(X)\n",
    "        out = self.relu(out)\n",
    "        for layer in self.layers[:-1]:\n",
    "            out = layer(out)\n",
    "        out = self.linear2(out)\n",
    "        return out"
   ]
  },
  {
   "cell_type": "code",
   "execution_count": 37,
   "metadata": {
    "ExecuteTime": {
     "end_time": "2021-02-25T06:44:34.260400Z",
     "start_time": "2021-02-25T06:44:34.199497Z"
    }
   },
   "outputs": [
    {
     "name": "stdout",
     "output_type": "stream",
     "text": [
      "----------------------------------------------------------------\n",
      "        Layer (type)               Output Shape         Param #\n",
      "================================================================\n",
      "            Linear-1                [-1, 1, 30]             270\n",
      "              ReLU-2                [-1, 1, 30]               0\n",
      "            Linear-3                 [-1, 1, 1]              31\n",
      "================================================================\n",
      "Total params: 301\n",
      "Trainable params: 301\n",
      "Non-trainable params: 0\n",
      "----------------------------------------------------------------\n",
      "Input size (MB): 0.00\n",
      "Forward/backward pass size (MB): 0.00\n",
      "Params size (MB): 0.00\n",
      "Estimated Total Size (MB): 0.00\n",
      "----------------------------------------------------------------\n"
     ]
    }
   ],
   "source": [
    "modelr_hp = Model_Reg_HP(8,0,30)\n",
    "\n",
    "from torchsummary import summary\n",
    "summary(modelr_hp, (1,8))"
   ]
  },
  {
   "cell_type": "code",
   "execution_count": 38,
   "metadata": {
    "ExecuteTime": {
     "end_time": "2021-02-25T06:44:34.307272Z",
     "start_time": "2021-02-25T06:44:34.261725Z"
    }
   },
   "outputs": [],
   "source": [
    "params = {\n",
    "    'module__n_hidden': [0, 1, 2, 3],\n",
    "    'module__n_neurons': [10, 20, 30],\n",
    "    'lr': [0.0005, 0.001, 0.002],\n",
    "    'optimizer': [torch.optim.Adam, torch.optim.RMSprop]\n",
    "}"
   ]
  },
  {
   "cell_type": "code",
   "execution_count": 39,
   "metadata": {
    "ExecuteTime": {
     "end_time": "2021-02-25T06:44:34.578716Z",
     "start_time": "2021-02-25T06:44:34.308743Z"
    }
   },
   "outputs": [],
   "source": [
    "from skorch import NeuralNetRegressor\n",
    "\n",
    "net = NeuralNetRegressor(Model_Reg_HP, max_epochs=10, lr=0.001, verbose=0, train_split=False, iterator_train__shuffle=True)"
   ]
  },
  {
   "cell_type": "markdown",
   "metadata": {},
   "source": [
    "## GridSearchCV"
   ]
  },
  {
   "cell_type": "code",
   "execution_count": 40,
   "metadata": {
    "ExecuteTime": {
     "end_time": "2021-02-25T06:44:34.584196Z",
     "start_time": "2021-02-25T06:44:34.580242Z"
    }
   },
   "outputs": [],
   "source": [
    "from sklearn.model_selection import GridSearchCV\n",
    "\n",
    "gs = GridSearchCV(net, params, scoring='neg_mean_squared_error', refit=False, cv=2, verbose=2)"
   ]
  },
  {
   "cell_type": "code",
   "execution_count": 41,
   "metadata": {
    "ExecuteTime": {
     "end_time": "2021-02-25T06:48:37.337164Z",
     "start_time": "2021-02-25T06:44:34.585461Z"
    }
   },
   "outputs": [
    {
     "name": "stdout",
     "output_type": "stream",
     "text": [
      "Fitting 2 folds for each of 72 candidates, totalling 144 fits\n",
      "[CV] END lr=0.0005, module__n_hidden=0, module__n_neurons=10, optimizer=<class 'torch.optim.adam.Adam'>; total time=   1.7s\n",
      "[CV] END lr=0.0005, module__n_hidden=0, module__n_neurons=10, optimizer=<class 'torch.optim.adam.Adam'>; total time=   1.6s\n",
      "[CV] END lr=0.0005, module__n_hidden=0, module__n_neurons=10, optimizer=<class 'torch.optim.rmsprop.RMSprop'>; total time=   1.6s\n",
      "[CV] END lr=0.0005, module__n_hidden=0, module__n_neurons=10, optimizer=<class 'torch.optim.rmsprop.RMSprop'>; total time=   1.6s\n",
      "[CV] END lr=0.0005, module__n_hidden=0, module__n_neurons=20, optimizer=<class 'torch.optim.adam.Adam'>; total time=   1.7s\n",
      "[CV] END lr=0.0005, module__n_hidden=0, module__n_neurons=20, optimizer=<class 'torch.optim.adam.Adam'>; total time=   1.5s\n",
      "[CV] END lr=0.0005, module__n_hidden=0, module__n_neurons=20, optimizer=<class 'torch.optim.rmsprop.RMSprop'>; total time=   1.3s\n",
      "[CV] END lr=0.0005, module__n_hidden=0, module__n_neurons=20, optimizer=<class 'torch.optim.rmsprop.RMSprop'>; total time=   1.3s\n",
      "[CV] END lr=0.0005, module__n_hidden=0, module__n_neurons=30, optimizer=<class 'torch.optim.adam.Adam'>; total time=   1.3s\n",
      "[CV] END lr=0.0005, module__n_hidden=0, module__n_neurons=30, optimizer=<class 'torch.optim.adam.Adam'>; total time=   1.5s\n",
      "[CV] END lr=0.0005, module__n_hidden=0, module__n_neurons=30, optimizer=<class 'torch.optim.rmsprop.RMSprop'>; total time=   1.4s\n",
      "[CV] END lr=0.0005, module__n_hidden=0, module__n_neurons=30, optimizer=<class 'torch.optim.rmsprop.RMSprop'>; total time=   1.3s\n",
      "[CV] END lr=0.0005, module__n_hidden=1, module__n_neurons=10, optimizer=<class 'torch.optim.adam.Adam'>; total time=   1.5s\n",
      "[CV] END lr=0.0005, module__n_hidden=1, module__n_neurons=10, optimizer=<class 'torch.optim.adam.Adam'>; total time=   1.5s\n",
      "[CV] END lr=0.0005, module__n_hidden=1, module__n_neurons=10, optimizer=<class 'torch.optim.rmsprop.RMSprop'>; total time=   1.4s\n",
      "[CV] END lr=0.0005, module__n_hidden=1, module__n_neurons=10, optimizer=<class 'torch.optim.rmsprop.RMSprop'>; total time=   1.7s\n",
      "[CV] END lr=0.0005, module__n_hidden=1, module__n_neurons=20, optimizer=<class 'torch.optim.adam.Adam'>; total time=   1.8s\n",
      "[CV] END lr=0.0005, module__n_hidden=1, module__n_neurons=20, optimizer=<class 'torch.optim.adam.Adam'>; total time=   1.5s\n",
      "[CV] END lr=0.0005, module__n_hidden=1, module__n_neurons=20, optimizer=<class 'torch.optim.rmsprop.RMSprop'>; total time=   1.4s\n",
      "[CV] END lr=0.0005, module__n_hidden=1, module__n_neurons=20, optimizer=<class 'torch.optim.rmsprop.RMSprop'>; total time=   1.4s\n",
      "[CV] END lr=0.0005, module__n_hidden=1, module__n_neurons=30, optimizer=<class 'torch.optim.adam.Adam'>; total time=   1.7s\n",
      "[CV] END lr=0.0005, module__n_hidden=1, module__n_neurons=30, optimizer=<class 'torch.optim.adam.Adam'>; total time=   1.7s\n",
      "[CV] END lr=0.0005, module__n_hidden=1, module__n_neurons=30, optimizer=<class 'torch.optim.rmsprop.RMSprop'>; total time=   1.4s\n",
      "[CV] END lr=0.0005, module__n_hidden=1, module__n_neurons=30, optimizer=<class 'torch.optim.rmsprop.RMSprop'>; total time=   1.5s\n",
      "[CV] END lr=0.0005, module__n_hidden=2, module__n_neurons=10, optimizer=<class 'torch.optim.adam.Adam'>; total time=   1.9s\n",
      "[CV] END lr=0.0005, module__n_hidden=2, module__n_neurons=10, optimizer=<class 'torch.optim.adam.Adam'>; total time=   1.9s\n",
      "[CV] END lr=0.0005, module__n_hidden=2, module__n_neurons=10, optimizer=<class 'torch.optim.rmsprop.RMSprop'>; total time=   1.6s\n",
      "[CV] END lr=0.0005, module__n_hidden=2, module__n_neurons=10, optimizer=<class 'torch.optim.rmsprop.RMSprop'>; total time=   1.7s\n",
      "[CV] END lr=0.0005, module__n_hidden=2, module__n_neurons=20, optimizer=<class 'torch.optim.adam.Adam'>; total time=   1.8s\n",
      "[CV] END lr=0.0005, module__n_hidden=2, module__n_neurons=20, optimizer=<class 'torch.optim.adam.Adam'>; total time=   1.9s\n",
      "[CV] END lr=0.0005, module__n_hidden=2, module__n_neurons=20, optimizer=<class 'torch.optim.rmsprop.RMSprop'>; total time=   1.9s\n",
      "[CV] END lr=0.0005, module__n_hidden=2, module__n_neurons=20, optimizer=<class 'torch.optim.rmsprop.RMSprop'>; total time=   1.9s\n",
      "[CV] END lr=0.0005, module__n_hidden=2, module__n_neurons=30, optimizer=<class 'torch.optim.adam.Adam'>; total time=   2.0s\n",
      "[CV] END lr=0.0005, module__n_hidden=2, module__n_neurons=30, optimizer=<class 'torch.optim.adam.Adam'>; total time=   2.0s\n",
      "[CV] END lr=0.0005, module__n_hidden=2, module__n_neurons=30, optimizer=<class 'torch.optim.rmsprop.RMSprop'>; total time=   2.0s\n",
      "[CV] END lr=0.0005, module__n_hidden=2, module__n_neurons=30, optimizer=<class 'torch.optim.rmsprop.RMSprop'>; total time=   1.9s\n",
      "[CV] END lr=0.0005, module__n_hidden=3, module__n_neurons=10, optimizer=<class 'torch.optim.adam.Adam'>; total time=   2.1s\n",
      "[CV] END lr=0.0005, module__n_hidden=3, module__n_neurons=10, optimizer=<class 'torch.optim.adam.Adam'>; total time=   2.0s\n",
      "[CV] END lr=0.0005, module__n_hidden=3, module__n_neurons=10, optimizer=<class 'torch.optim.rmsprop.RMSprop'>; total time=   1.8s\n",
      "[CV] END lr=0.0005, module__n_hidden=3, module__n_neurons=10, optimizer=<class 'torch.optim.rmsprop.RMSprop'>; total time=   1.7s\n",
      "[CV] END lr=0.0005, module__n_hidden=3, module__n_neurons=20, optimizer=<class 'torch.optim.adam.Adam'>; total time=   1.9s\n",
      "[CV] END lr=0.0005, module__n_hidden=3, module__n_neurons=20, optimizer=<class 'torch.optim.adam.Adam'>; total time=   1.8s\n",
      "[CV] END lr=0.0005, module__n_hidden=3, module__n_neurons=20, optimizer=<class 'torch.optim.rmsprop.RMSprop'>; total time=   1.9s\n",
      "[CV] END lr=0.0005, module__n_hidden=3, module__n_neurons=20, optimizer=<class 'torch.optim.rmsprop.RMSprop'>; total time=   2.0s\n",
      "[CV] END lr=0.0005, module__n_hidden=3, module__n_neurons=30, optimizer=<class 'torch.optim.adam.Adam'>; total time=   2.1s\n",
      "[CV] END lr=0.0005, module__n_hidden=3, module__n_neurons=30, optimizer=<class 'torch.optim.adam.Adam'>; total time=   2.1s\n",
      "[CV] END lr=0.0005, module__n_hidden=3, module__n_neurons=30, optimizer=<class 'torch.optim.rmsprop.RMSprop'>; total time=   1.8s\n",
      "[CV] END lr=0.0005, module__n_hidden=3, module__n_neurons=30, optimizer=<class 'torch.optim.rmsprop.RMSprop'>; total time=   1.8s\n",
      "[CV] END lr=0.001, module__n_hidden=0, module__n_neurons=10, optimizer=<class 'torch.optim.adam.Adam'>; total time=   1.3s\n",
      "[CV] END lr=0.001, module__n_hidden=0, module__n_neurons=10, optimizer=<class 'torch.optim.adam.Adam'>; total time=   1.3s\n",
      "[CV] END lr=0.001, module__n_hidden=0, module__n_neurons=10, optimizer=<class 'torch.optim.rmsprop.RMSprop'>; total time=   1.3s\n",
      "[CV] END lr=0.001, module__n_hidden=0, module__n_neurons=10, optimizer=<class 'torch.optim.rmsprop.RMSprop'>; total time=   1.4s\n",
      "[CV] END lr=0.001, module__n_hidden=0, module__n_neurons=20, optimizer=<class 'torch.optim.adam.Adam'>; total time=   1.4s\n",
      "[CV] END lr=0.001, module__n_hidden=0, module__n_neurons=20, optimizer=<class 'torch.optim.adam.Adam'>; total time=   1.3s\n",
      "[CV] END lr=0.001, module__n_hidden=0, module__n_neurons=20, optimizer=<class 'torch.optim.rmsprop.RMSprop'>; total time=   1.3s\n",
      "[CV] END lr=0.001, module__n_hidden=0, module__n_neurons=20, optimizer=<class 'torch.optim.rmsprop.RMSprop'>; total time=   1.3s\n",
      "[CV] END lr=0.001, module__n_hidden=0, module__n_neurons=30, optimizer=<class 'torch.optim.adam.Adam'>; total time=   1.5s\n",
      "[CV] END lr=0.001, module__n_hidden=0, module__n_neurons=30, optimizer=<class 'torch.optim.adam.Adam'>; total time=   1.6s\n",
      "[CV] END lr=0.001, module__n_hidden=0, module__n_neurons=30, optimizer=<class 'torch.optim.rmsprop.RMSprop'>; total time=   1.4s\n",
      "[CV] END lr=0.001, module__n_hidden=0, module__n_neurons=30, optimizer=<class 'torch.optim.rmsprop.RMSprop'>; total time=   1.3s\n",
      "[CV] END lr=0.001, module__n_hidden=1, module__n_neurons=10, optimizer=<class 'torch.optim.adam.Adam'>; total time=   1.5s\n",
      "[CV] END lr=0.001, module__n_hidden=1, module__n_neurons=10, optimizer=<class 'torch.optim.adam.Adam'>; total time=   1.5s\n",
      "[CV] END lr=0.001, module__n_hidden=1, module__n_neurons=10, optimizer=<class 'torch.optim.rmsprop.RMSprop'>; total time=   1.7s\n",
      "[CV] END lr=0.001, module__n_hidden=1, module__n_neurons=10, optimizer=<class 'torch.optim.rmsprop.RMSprop'>; total time=   1.4s\n",
      "[CV] END lr=0.001, module__n_hidden=1, module__n_neurons=20, optimizer=<class 'torch.optim.adam.Adam'>; total time=   1.5s\n"
     ]
    },
    {
     "name": "stdout",
     "output_type": "stream",
     "text": [
      "[CV] END lr=0.001, module__n_hidden=1, module__n_neurons=20, optimizer=<class 'torch.optim.adam.Adam'>; total time=   1.5s\n",
      "[CV] END lr=0.001, module__n_hidden=1, module__n_neurons=20, optimizer=<class 'torch.optim.rmsprop.RMSprop'>; total time=   1.5s\n",
      "[CV] END lr=0.001, module__n_hidden=1, module__n_neurons=20, optimizer=<class 'torch.optim.rmsprop.RMSprop'>; total time=   1.6s\n",
      "[CV] END lr=0.001, module__n_hidden=1, module__n_neurons=30, optimizer=<class 'torch.optim.adam.Adam'>; total time=   1.9s\n",
      "[CV] END lr=0.001, module__n_hidden=1, module__n_neurons=30, optimizer=<class 'torch.optim.adam.Adam'>; total time=   1.5s\n",
      "[CV] END lr=0.001, module__n_hidden=1, module__n_neurons=30, optimizer=<class 'torch.optim.rmsprop.RMSprop'>; total time=   1.4s\n",
      "[CV] END lr=0.001, module__n_hidden=1, module__n_neurons=30, optimizer=<class 'torch.optim.rmsprop.RMSprop'>; total time=   1.8s\n",
      "[CV] END lr=0.001, module__n_hidden=2, module__n_neurons=10, optimizer=<class 'torch.optim.adam.Adam'>; total time=   1.8s\n",
      "[CV] END lr=0.001, module__n_hidden=2, module__n_neurons=10, optimizer=<class 'torch.optim.adam.Adam'>; total time=   1.9s\n",
      "[CV] END lr=0.001, module__n_hidden=2, module__n_neurons=10, optimizer=<class 'torch.optim.rmsprop.RMSprop'>; total time=   1.8s\n",
      "[CV] END lr=0.001, module__n_hidden=2, module__n_neurons=10, optimizer=<class 'torch.optim.rmsprop.RMSprop'>; total time=   1.7s\n",
      "[CV] END lr=0.001, module__n_hidden=2, module__n_neurons=20, optimizer=<class 'torch.optim.adam.Adam'>; total time=   1.9s\n",
      "[CV] END lr=0.001, module__n_hidden=2, module__n_neurons=20, optimizer=<class 'torch.optim.adam.Adam'>; total time=   1.9s\n",
      "[CV] END lr=0.001, module__n_hidden=2, module__n_neurons=20, optimizer=<class 'torch.optim.rmsprop.RMSprop'>; total time=   1.7s\n",
      "[CV] END lr=0.001, module__n_hidden=2, module__n_neurons=20, optimizer=<class 'torch.optim.rmsprop.RMSprop'>; total time=   1.6s\n",
      "[CV] END lr=0.001, module__n_hidden=2, module__n_neurons=30, optimizer=<class 'torch.optim.adam.Adam'>; total time=   1.9s\n",
      "[CV] END lr=0.001, module__n_hidden=2, module__n_neurons=30, optimizer=<class 'torch.optim.adam.Adam'>; total time=   2.0s\n",
      "[CV] END lr=0.001, module__n_hidden=2, module__n_neurons=30, optimizer=<class 'torch.optim.rmsprop.RMSprop'>; total time=   1.7s\n",
      "[CV] END lr=0.001, module__n_hidden=2, module__n_neurons=30, optimizer=<class 'torch.optim.rmsprop.RMSprop'>; total time=   1.9s\n",
      "[CV] END lr=0.001, module__n_hidden=3, module__n_neurons=10, optimizer=<class 'torch.optim.adam.Adam'>; total time=   2.0s\n",
      "[CV] END lr=0.001, module__n_hidden=3, module__n_neurons=10, optimizer=<class 'torch.optim.adam.Adam'>; total time=   2.0s\n",
      "[CV] END lr=0.001, module__n_hidden=3, module__n_neurons=10, optimizer=<class 'torch.optim.rmsprop.RMSprop'>; total time=   2.0s\n",
      "[CV] END lr=0.001, module__n_hidden=3, module__n_neurons=10, optimizer=<class 'torch.optim.rmsprop.RMSprop'>; total time=   1.9s\n",
      "[CV] END lr=0.001, module__n_hidden=3, module__n_neurons=20, optimizer=<class 'torch.optim.adam.Adam'>; total time=   1.8s\n",
      "[CV] END lr=0.001, module__n_hidden=3, module__n_neurons=20, optimizer=<class 'torch.optim.adam.Adam'>; total time=   1.8s\n",
      "[CV] END lr=0.001, module__n_hidden=3, module__n_neurons=20, optimizer=<class 'torch.optim.rmsprop.RMSprop'>; total time=   1.7s\n",
      "[CV] END lr=0.001, module__n_hidden=3, module__n_neurons=20, optimizer=<class 'torch.optim.rmsprop.RMSprop'>; total time=   1.7s\n",
      "[CV] END lr=0.001, module__n_hidden=3, module__n_neurons=30, optimizer=<class 'torch.optim.adam.Adam'>; total time=   1.8s\n",
      "[CV] END lr=0.001, module__n_hidden=3, module__n_neurons=30, optimizer=<class 'torch.optim.adam.Adam'>; total time=   1.9s\n",
      "[CV] END lr=0.001, module__n_hidden=3, module__n_neurons=30, optimizer=<class 'torch.optim.rmsprop.RMSprop'>; total time=   1.7s\n",
      "[CV] END lr=0.001, module__n_hidden=3, module__n_neurons=30, optimizer=<class 'torch.optim.rmsprop.RMSprop'>; total time=   1.7s\n",
      "[CV] END lr=0.002, module__n_hidden=0, module__n_neurons=10, optimizer=<class 'torch.optim.adam.Adam'>; total time=   1.3s\n",
      "[CV] END lr=0.002, module__n_hidden=0, module__n_neurons=10, optimizer=<class 'torch.optim.adam.Adam'>; total time=   1.4s\n",
      "[CV] END lr=0.002, module__n_hidden=0, module__n_neurons=10, optimizer=<class 'torch.optim.rmsprop.RMSprop'>; total time=   1.6s\n",
      "[CV] END lr=0.002, module__n_hidden=0, module__n_neurons=10, optimizer=<class 'torch.optim.rmsprop.RMSprop'>; total time=   1.6s\n",
      "[CV] END lr=0.002, module__n_hidden=0, module__n_neurons=20, optimizer=<class 'torch.optim.adam.Adam'>; total time=   1.7s\n",
      "[CV] END lr=0.002, module__n_hidden=0, module__n_neurons=20, optimizer=<class 'torch.optim.adam.Adam'>; total time=   1.7s\n",
      "[CV] END lr=0.002, module__n_hidden=0, module__n_neurons=20, optimizer=<class 'torch.optim.rmsprop.RMSprop'>; total time=   1.6s\n",
      "[CV] END lr=0.002, module__n_hidden=0, module__n_neurons=20, optimizer=<class 'torch.optim.rmsprop.RMSprop'>; total time=   1.6s\n",
      "[CV] END lr=0.002, module__n_hidden=0, module__n_neurons=30, optimizer=<class 'torch.optim.adam.Adam'>; total time=   1.7s\n",
      "[CV] END lr=0.002, module__n_hidden=0, module__n_neurons=30, optimizer=<class 'torch.optim.adam.Adam'>; total time=   1.4s\n",
      "[CV] END lr=0.002, module__n_hidden=0, module__n_neurons=30, optimizer=<class 'torch.optim.rmsprop.RMSprop'>; total time=   1.3s\n",
      "[CV] END lr=0.002, module__n_hidden=0, module__n_neurons=30, optimizer=<class 'torch.optim.rmsprop.RMSprop'>; total time=   1.6s\n",
      "[CV] END lr=0.002, module__n_hidden=1, module__n_neurons=10, optimizer=<class 'torch.optim.adam.Adam'>; total time=   1.8s\n",
      "[CV] END lr=0.002, module__n_hidden=1, module__n_neurons=10, optimizer=<class 'torch.optim.adam.Adam'>; total time=   1.8s\n",
      "[CV] END lr=0.002, module__n_hidden=1, module__n_neurons=10, optimizer=<class 'torch.optim.rmsprop.RMSprop'>; total time=   1.7s\n",
      "[CV] END lr=0.002, module__n_hidden=1, module__n_neurons=10, optimizer=<class 'torch.optim.rmsprop.RMSprop'>; total time=   1.7s\n",
      "[CV] END lr=0.002, module__n_hidden=1, module__n_neurons=20, optimizer=<class 'torch.optim.adam.Adam'>; total time=   1.6s\n",
      "[CV] END lr=0.002, module__n_hidden=1, module__n_neurons=20, optimizer=<class 'torch.optim.adam.Adam'>; total time=   1.8s\n",
      "[CV] END lr=0.002, module__n_hidden=1, module__n_neurons=20, optimizer=<class 'torch.optim.rmsprop.RMSprop'>; total time=   1.7s\n",
      "[CV] END lr=0.002, module__n_hidden=1, module__n_neurons=20, optimizer=<class 'torch.optim.rmsprop.RMSprop'>; total time=   1.6s\n",
      "[CV] END lr=0.002, module__n_hidden=1, module__n_neurons=30, optimizer=<class 'torch.optim.adam.Adam'>; total time=   1.5s\n",
      "[CV] END lr=0.002, module__n_hidden=1, module__n_neurons=30, optimizer=<class 'torch.optim.adam.Adam'>; total time=   1.6s\n",
      "[CV] END lr=0.002, module__n_hidden=1, module__n_neurons=30, optimizer=<class 'torch.optim.rmsprop.RMSprop'>; total time=   1.6s\n",
      "[CV] END lr=0.002, module__n_hidden=1, module__n_neurons=30, optimizer=<class 'torch.optim.rmsprop.RMSprop'>; total time=   1.4s\n",
      "[CV] END lr=0.002, module__n_hidden=2, module__n_neurons=10, optimizer=<class 'torch.optim.adam.Adam'>; total time=   1.6s\n",
      "[CV] END lr=0.002, module__n_hidden=2, module__n_neurons=10, optimizer=<class 'torch.optim.adam.Adam'>; total time=   1.6s\n",
      "[CV] END lr=0.002, module__n_hidden=2, module__n_neurons=10, optimizer=<class 'torch.optim.rmsprop.RMSprop'>; total time=   1.7s\n",
      "[CV] END lr=0.002, module__n_hidden=2, module__n_neurons=10, optimizer=<class 'torch.optim.rmsprop.RMSprop'>; total time=   1.7s\n",
      "[CV] END lr=0.002, module__n_hidden=2, module__n_neurons=20, optimizer=<class 'torch.optim.adam.Adam'>; total time=   1.6s\n",
      "[CV] END lr=0.002, module__n_hidden=2, module__n_neurons=20, optimizer=<class 'torch.optim.adam.Adam'>; total time=   1.6s\n",
      "[CV] END lr=0.002, module__n_hidden=2, module__n_neurons=20, optimizer=<class 'torch.optim.rmsprop.RMSprop'>; total time=   1.8s\n",
      "[CV] END lr=0.002, module__n_hidden=2, module__n_neurons=20, optimizer=<class 'torch.optim.rmsprop.RMSprop'>; total time=   1.9s\n",
      "[CV] END lr=0.002, module__n_hidden=2, module__n_neurons=30, optimizer=<class 'torch.optim.adam.Adam'>; total time=   2.0s\n",
      "[CV] END lr=0.002, module__n_hidden=2, module__n_neurons=30, optimizer=<class 'torch.optim.adam.Adam'>; total time=   2.0s\n",
      "[CV] END lr=0.002, module__n_hidden=2, module__n_neurons=30, optimizer=<class 'torch.optim.rmsprop.RMSprop'>; total time=   2.0s\n"
     ]
    },
    {
     "name": "stdout",
     "output_type": "stream",
     "text": [
      "[CV] END lr=0.002, module__n_hidden=2, module__n_neurons=30, optimizer=<class 'torch.optim.rmsprop.RMSprop'>; total time=   1.7s\n",
      "[CV] END lr=0.002, module__n_hidden=3, module__n_neurons=10, optimizer=<class 'torch.optim.adam.Adam'>; total time=   2.0s\n",
      "[CV] END lr=0.002, module__n_hidden=3, module__n_neurons=10, optimizer=<class 'torch.optim.adam.Adam'>; total time=   1.9s\n",
      "[CV] END lr=0.002, module__n_hidden=3, module__n_neurons=10, optimizer=<class 'torch.optim.rmsprop.RMSprop'>; total time=   1.9s\n",
      "[CV] END lr=0.002, module__n_hidden=3, module__n_neurons=10, optimizer=<class 'torch.optim.rmsprop.RMSprop'>; total time=   1.7s\n",
      "[CV] END lr=0.002, module__n_hidden=3, module__n_neurons=20, optimizer=<class 'torch.optim.adam.Adam'>; total time=   1.8s\n",
      "[CV] END lr=0.002, module__n_hidden=3, module__n_neurons=20, optimizer=<class 'torch.optim.adam.Adam'>; total time=   1.8s\n",
      "[CV] END lr=0.002, module__n_hidden=3, module__n_neurons=20, optimizer=<class 'torch.optim.rmsprop.RMSprop'>; total time=   1.7s\n",
      "[CV] END lr=0.002, module__n_hidden=3, module__n_neurons=20, optimizer=<class 'torch.optim.rmsprop.RMSprop'>; total time=   1.9s\n",
      "[CV] END lr=0.002, module__n_hidden=3, module__n_neurons=30, optimizer=<class 'torch.optim.adam.Adam'>; total time=   2.0s\n",
      "[CV] END lr=0.002, module__n_hidden=3, module__n_neurons=30, optimizer=<class 'torch.optim.adam.Adam'>; total time=   1.9s\n",
      "[CV] END lr=0.002, module__n_hidden=3, module__n_neurons=30, optimizer=<class 'torch.optim.rmsprop.RMSprop'>; total time=   1.7s\n",
      "[CV] END lr=0.002, module__n_hidden=3, module__n_neurons=30, optimizer=<class 'torch.optim.rmsprop.RMSprop'>; total time=   1.7s\n"
     ]
    },
    {
     "data": {
      "text/plain": [
       "GridSearchCV(cv=2,\n",
       "             estimator=<class 'skorch.regressor.NeuralNetRegressor'>[uninitialized](\n",
       "  module=<class '__main__.Model_Reg_HP'>,\n",
       "),\n",
       "             param_grid={'lr': [0.0005, 0.001, 0.002],\n",
       "                         'module__n_hidden': [0, 1, 2, 3],\n",
       "                         'module__n_neurons': [10, 20, 30],\n",
       "                         'optimizer': [<class 'torch.optim.adam.Adam'>,\n",
       "                                       <class 'torch.optim.rmsprop.RMSprop'>]},\n",
       "             refit=False, scoring='neg_mean_squared_error', verbose=2)"
      ]
     },
     "execution_count": 41,
     "metadata": {},
     "output_type": "execute_result"
    }
   ],
   "source": [
    "gs.fit(x_train, y_train)"
   ]
  },
  {
   "cell_type": "code",
   "execution_count": 42,
   "metadata": {
    "ExecuteTime": {
     "end_time": "2021-02-25T06:48:37.341196Z",
     "start_time": "2021-02-25T06:48:37.338399Z"
    }
   },
   "outputs": [
    {
     "name": "stdout",
     "output_type": "stream",
     "text": [
      "-0.3488439470529556 {'lr': 0.002, 'module__n_hidden': 3, 'module__n_neurons': 30, 'optimizer': <class 'torch.optim.rmsprop.RMSprop'>}\n"
     ]
    }
   ],
   "source": [
    "print(gs.best_score_, gs.best_params_)"
   ]
  },
  {
   "cell_type": "markdown",
   "metadata": {},
   "source": [
    "## RandomSearchCV"
   ]
  },
  {
   "cell_type": "code",
   "execution_count": 43,
   "metadata": {
    "ExecuteTime": {
     "end_time": "2021-02-25T06:49:42.007221Z",
     "start_time": "2021-02-25T06:48:37.342492Z"
    }
   },
   "outputs": [
    {
     "name": "stdout",
     "output_type": "stream",
     "text": [
      "Fitting 2 folds for each of 20 candidates, totalling 40 fits\n",
      "[CV] END lr=0.002, module__n_hidden=2, module__n_neurons=10, optimizer=<class 'torch.optim.adam.Adam'>; total time=   1.6s\n",
      "[CV] END lr=0.002, module__n_hidden=2, module__n_neurons=10, optimizer=<class 'torch.optim.adam.Adam'>; total time=   1.9s\n",
      "[CV] END lr=0.001, module__n_hidden=0, module__n_neurons=20, optimizer=<class 'torch.optim.rmsprop.RMSprop'>; total time=   1.6s\n",
      "[CV] END lr=0.001, module__n_hidden=0, module__n_neurons=20, optimizer=<class 'torch.optim.rmsprop.RMSprop'>; total time=   1.3s\n",
      "[CV] END lr=0.002, module__n_hidden=0, module__n_neurons=10, optimizer=<class 'torch.optim.adam.Adam'>; total time=   1.3s\n",
      "[CV] END lr=0.002, module__n_hidden=0, module__n_neurons=10, optimizer=<class 'torch.optim.adam.Adam'>; total time=   1.3s\n",
      "[CV] END lr=0.002, module__n_hidden=0, module__n_neurons=20, optimizer=<class 'torch.optim.rmsprop.RMSprop'>; total time=   1.3s\n",
      "[CV] END lr=0.002, module__n_hidden=0, module__n_neurons=20, optimizer=<class 'torch.optim.rmsprop.RMSprop'>; total time=   1.3s\n",
      "[CV] END lr=0.002, module__n_hidden=2, module__n_neurons=30, optimizer=<class 'torch.optim.rmsprop.RMSprop'>; total time=   1.6s\n",
      "[CV] END lr=0.002, module__n_hidden=2, module__n_neurons=30, optimizer=<class 'torch.optim.rmsprop.RMSprop'>; total time=   1.8s\n",
      "[CV] END lr=0.002, module__n_hidden=1, module__n_neurons=30, optimizer=<class 'torch.optim.adam.Adam'>; total time=   1.9s\n",
      "[CV] END lr=0.002, module__n_hidden=1, module__n_neurons=30, optimizer=<class 'torch.optim.adam.Adam'>; total time=   1.9s\n",
      "[CV] END lr=0.0005, module__n_hidden=1, module__n_neurons=30, optimizer=<class 'torch.optim.rmsprop.RMSprop'>; total time=   1.5s\n",
      "[CV] END lr=0.0005, module__n_hidden=1, module__n_neurons=30, optimizer=<class 'torch.optim.rmsprop.RMSprop'>; total time=   1.7s\n",
      "[CV] END lr=0.001, module__n_hidden=0, module__n_neurons=10, optimizer=<class 'torch.optim.rmsprop.RMSprop'>; total time=   1.5s\n",
      "[CV] END lr=0.001, module__n_hidden=0, module__n_neurons=10, optimizer=<class 'torch.optim.rmsprop.RMSprop'>; total time=   1.6s\n",
      "[CV] END lr=0.002, module__n_hidden=0, module__n_neurons=10, optimizer=<class 'torch.optim.rmsprop.RMSprop'>; total time=   1.5s\n",
      "[CV] END lr=0.002, module__n_hidden=0, module__n_neurons=10, optimizer=<class 'torch.optim.rmsprop.RMSprop'>; total time=   1.4s\n",
      "[CV] END lr=0.001, module__n_hidden=2, module__n_neurons=20, optimizer=<class 'torch.optim.adam.Adam'>; total time=   1.6s\n",
      "[CV] END lr=0.001, module__n_hidden=2, module__n_neurons=20, optimizer=<class 'torch.optim.adam.Adam'>; total time=   1.8s\n",
      "[CV] END lr=0.002, module__n_hidden=2, module__n_neurons=30, optimizer=<class 'torch.optim.adam.Adam'>; total time=   2.1s\n",
      "[CV] END lr=0.002, module__n_hidden=2, module__n_neurons=30, optimizer=<class 'torch.optim.adam.Adam'>; total time=   1.7s\n",
      "[CV] END lr=0.001, module__n_hidden=3, module__n_neurons=10, optimizer=<class 'torch.optim.adam.Adam'>; total time=   1.9s\n",
      "[CV] END lr=0.001, module__n_hidden=3, module__n_neurons=10, optimizer=<class 'torch.optim.adam.Adam'>; total time=   1.9s\n",
      "[CV] END lr=0.0005, module__n_hidden=1, module__n_neurons=10, optimizer=<class 'torch.optim.adam.Adam'>; total time=   1.5s\n",
      "[CV] END lr=0.0005, module__n_hidden=1, module__n_neurons=10, optimizer=<class 'torch.optim.adam.Adam'>; total time=   1.6s\n",
      "[CV] END lr=0.001, module__n_hidden=2, module__n_neurons=30, optimizer=<class 'torch.optim.rmsprop.RMSprop'>; total time=   2.0s\n",
      "[CV] END lr=0.001, module__n_hidden=2, module__n_neurons=30, optimizer=<class 'torch.optim.rmsprop.RMSprop'>; total time=   1.6s\n",
      "[CV] END lr=0.0005, module__n_hidden=0, module__n_neurons=10, optimizer=<class 'torch.optim.rmsprop.RMSprop'>; total time=   1.3s\n",
      "[CV] END lr=0.0005, module__n_hidden=0, module__n_neurons=10, optimizer=<class 'torch.optim.rmsprop.RMSprop'>; total time=   1.3s\n",
      "[CV] END lr=0.001, module__n_hidden=2, module__n_neurons=30, optimizer=<class 'torch.optim.adam.Adam'>; total time=   1.7s\n",
      "[CV] END lr=0.001, module__n_hidden=2, module__n_neurons=30, optimizer=<class 'torch.optim.adam.Adam'>; total time=   2.0s\n",
      "[CV] END lr=0.002, module__n_hidden=3, module__n_neurons=10, optimizer=<class 'torch.optim.rmsprop.RMSprop'>; total time=   1.7s\n",
      "[CV] END lr=0.002, module__n_hidden=3, module__n_neurons=10, optimizer=<class 'torch.optim.rmsprop.RMSprop'>; total time=   1.7s\n",
      "[CV] END lr=0.001, module__n_hidden=2, module__n_neurons=10, optimizer=<class 'torch.optim.rmsprop.RMSprop'>; total time=   1.8s\n",
      "[CV] END lr=0.001, module__n_hidden=2, module__n_neurons=10, optimizer=<class 'torch.optim.rmsprop.RMSprop'>; total time=   1.7s\n",
      "[CV] END lr=0.001, module__n_hidden=0, module__n_neurons=30, optimizer=<class 'torch.optim.adam.Adam'>; total time=   1.6s\n",
      "[CV] END lr=0.001, module__n_hidden=0, module__n_neurons=30, optimizer=<class 'torch.optim.adam.Adam'>; total time=   1.4s\n",
      "[CV] END lr=0.0005, module__n_hidden=1, module__n_neurons=10, optimizer=<class 'torch.optim.rmsprop.RMSprop'>; total time=   1.4s\n",
      "[CV] END lr=0.0005, module__n_hidden=1, module__n_neurons=10, optimizer=<class 'torch.optim.rmsprop.RMSprop'>; total time=   1.4s\n"
     ]
    },
    {
     "data": {
      "text/plain": [
       "RandomizedSearchCV(cv=2,\n",
       "                   estimator=<class 'skorch.regressor.NeuralNetRegressor'>[uninitialized](\n",
       "  module=<class '__main__.Model_Reg_HP'>,\n",
       "),\n",
       "                   n_iter=20,\n",
       "                   param_distributions={'lr': [0.0005, 0.001, 0.002],\n",
       "                                        'module__n_hidden': [0, 1, 2, 3],\n",
       "                                        'module__n_neurons': [10, 20, 30],\n",
       "                                        'optimizer': [<class 'torch.optim.adam.Adam'>,\n",
       "                                                      <class 'torch.optim.rmsprop.RMSprop'>]},\n",
       "                   refit=False, scoring='neg_mean_squared_error', verbose=2)"
      ]
     },
     "execution_count": 43,
     "metadata": {},
     "output_type": "execute_result"
    }
   ],
   "source": [
    "from sklearn.model_selection import RandomizedSearchCV\n",
    "\n",
    "rs = RandomizedSearchCV(net, params, n_iter=20, scoring='neg_mean_squared_error', refit=False, cv=2, verbose=2)\n",
    "rs.fit(x_train, y_train)"
   ]
  },
  {
   "cell_type": "code",
   "execution_count": 44,
   "metadata": {
    "ExecuteTime": {
     "end_time": "2021-02-25T06:49:42.012258Z",
     "start_time": "2021-02-25T06:49:42.008533Z"
    }
   },
   "outputs": [
    {
     "name": "stdout",
     "output_type": "stream",
     "text": [
      "-0.34611351788043976 {'optimizer': <class 'torch.optim.rmsprop.RMSprop'>, 'module__n_neurons': 30, 'module__n_hidden': 2, 'lr': 0.002}\n"
     ]
    }
   ],
   "source": [
    "print(rs.best_score_, rs.best_params_)"
   ]
  },
  {
   "cell_type": "code",
   "execution_count": null,
   "metadata": {},
   "outputs": [],
   "source": []
  }
 ],
 "metadata": {
  "kernelspec": {
   "display_name": "Python 3",
   "language": "python",
   "name": "python3"
  },
  "language_info": {
   "codemirror_mode": {
    "name": "ipython",
    "version": 3
   },
   "file_extension": ".py",
   "mimetype": "text/x-python",
   "name": "python",
   "nbconvert_exporter": "python",
   "pygments_lexer": "ipython3",
   "version": "3.8.6"
  }
 },
 "nbformat": 4,
 "nbformat_minor": 4
}
