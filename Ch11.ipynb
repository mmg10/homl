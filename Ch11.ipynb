{
 "cells": [
  {
   "cell_type": "code",
   "execution_count": 1,
   "metadata": {
    "ExecuteTime": {
     "end_time": "2021-02-20T12:18:07.642108Z",
     "start_time": "2021-02-20T12:18:07.388782Z"
    }
   },
   "outputs": [],
   "source": [
    "import torch\n",
    "import torch.nn as nn\n",
    "import torchvision\n",
    "import torchvision.transforms as transforms\n",
    "import numpy as np\n",
    "import matplotlib.pyplot as plt\n",
    "from tqdm.notebook import tqdm\n"
   ]
  },
  {
   "cell_type": "markdown",
   "metadata": {},
   "source": [
    "# Batch Normalization"
   ]
  },
  {
   "cell_type": "code",
   "execution_count": 2,
   "metadata": {
    "ExecuteTime": {
     "end_time": "2021-02-20T12:18:08.305568Z",
     "start_time": "2021-02-20T12:18:08.294086Z"
    }
   },
   "outputs": [],
   "source": [
    "class Model_BN(nn.Module):\n",
    "    def __init__(self):\n",
    "        super(Model_BN, self).__init__()\n",
    "        self.flat = nn.Flatten()\n",
    "        self.bn1 = nn.BatchNorm1d(784)\n",
    "        self.linear1 = nn.Linear(784, 300)\n",
    "        self.relu = nn.ReLU()\n",
    "        self.bn2 = nn.BatchNorm1d(300)\n",
    "        self.linear2 = nn.Linear(300, 100)\n",
    "        self.bn3 = nn.BatchNorm1d(100)\n",
    "        self.linear3 = nn.Linear(100, 10)\n",
    "        self.smax = nn.Softmax(dim=1)\n",
    "            \n",
    "    def forward(self, X):\n",
    "        out = self.flat(X)\n",
    "        out = self.bn1(out)\n",
    "        out = self.linear1(out)\n",
    "        out = self.relu(out)\n",
    "        out = self.bn2(out)\n",
    "        out = self.linear2(out)\n",
    "        out = self.relu(out)\n",
    "        out = self.bn3(out)\n",
    "        out = self.linear3(out)\n",
    "        out = self.smax(out)\n",
    "        return out"
   ]
  },
  {
   "cell_type": "code",
   "execution_count": 3,
   "metadata": {
    "ExecuteTime": {
     "end_time": "2021-02-20T12:18:09.584111Z",
     "start_time": "2021-02-20T12:18:08.709599Z"
    }
   },
   "outputs": [
    {
     "name": "stdout",
     "output_type": "stream",
     "text": [
      "----------------------------------------------------------------\n",
      "        Layer (type)               Output Shape         Param #\n",
      "================================================================\n",
      "           Flatten-1                  [-1, 784]               0\n",
      "       BatchNorm1d-2                  [-1, 784]           1,568\n",
      "            Linear-3                  [-1, 300]         235,500\n",
      "              ReLU-4                  [-1, 300]               0\n",
      "       BatchNorm1d-5                  [-1, 300]             600\n",
      "            Linear-6                  [-1, 100]          30,100\n",
      "              ReLU-7                  [-1, 100]               0\n",
      "       BatchNorm1d-8                  [-1, 100]             200\n",
      "            Linear-9                   [-1, 10]           1,010\n",
      "          Softmax-10                   [-1, 10]               0\n",
      "================================================================\n",
      "Total params: 268,978\n",
      "Trainable params: 268,978\n",
      "Non-trainable params: 0\n",
      "----------------------------------------------------------------\n",
      "Input size (MB): 0.00\n",
      "Forward/backward pass size (MB): 0.02\n",
      "Params size (MB): 1.03\n",
      "Estimated Total Size (MB): 1.05\n",
      "----------------------------------------------------------------\n"
     ]
    }
   ],
   "source": [
    "model1 = Model_BN()\n",
    "\n",
    "from torchsummary import summary\n",
    "summary(model1, (1,28,28))"
   ]
  },
  {
   "cell_type": "markdown",
   "metadata": {},
   "source": [
    "Note that the Number of trainable parameters is the same as in Keras. Only, there are additional non-trainable parameters (the running averages of mean and variance in BN layer) which don't appear in PyTorch (not stored?)"
   ]
  },
  {
   "cell_type": "markdown",
   "metadata": {
    "ExecuteTime": {
     "end_time": "2021-02-18T08:02:22.675492Z",
     "start_time": "2021-02-18T08:02:22.663429Z"
    }
   },
   "source": [
    "For models with BN, it doesn't really make sense to have bias with linear layers (since its effect is cancelled by the BN layer)"
   ]
  },
  {
   "cell_type": "code",
   "execution_count": 4,
   "metadata": {
    "ExecuteTime": {
     "end_time": "2021-02-20T12:18:10.381997Z",
     "start_time": "2021-02-20T12:18:10.374246Z"
    }
   },
   "outputs": [],
   "source": [
    "class Model_BN_nb(nn.Module):\n",
    "    def __init__(self):\n",
    "        super(Model_BN_nb, self).__init__()\n",
    "        self.flat = nn.Flatten()\n",
    "        self.bn1 = nn.BatchNorm1d(784)\n",
    "        self.linear1 = nn.Linear(784, 300, bias=False)\n",
    "        self.relu = nn.ReLU()\n",
    "        self.bn2 = nn.BatchNorm1d(300)\n",
    "        self.linear2 = nn.Linear(300, 100, bias=False)\n",
    "        self.bn3 = nn.BatchNorm1d(100)\n",
    "        self.linear3 = nn.Linear(100, 10)\n",
    "        self.smax = nn.Softmax(dim=1)\n",
    "            \n",
    "    def forward(self, X):\n",
    "        out = self.flat(X)\n",
    "        out = self.bn1(out)\n",
    "        out = self.linear1(out)\n",
    "        out = self.relu(out)\n",
    "        out = self.bn2(out)\n",
    "        out = self.linear2(out)\n",
    "        out = self.relu(out)\n",
    "        out = self.bn3(out)\n",
    "        out = self.linear3(out)\n",
    "        out = self.smax(out)\n",
    "        return out"
   ]
  },
  {
   "cell_type": "code",
   "execution_count": 5,
   "metadata": {
    "ExecuteTime": {
     "end_time": "2021-02-20T12:18:10.991064Z",
     "start_time": "2021-02-20T12:18:10.912575Z"
    }
   },
   "outputs": [
    {
     "name": "stdout",
     "output_type": "stream",
     "text": [
      "----------------------------------------------------------------\n",
      "        Layer (type)               Output Shape         Param #\n",
      "================================================================\n",
      "           Flatten-1                  [-1, 784]               0\n",
      "       BatchNorm1d-2                  [-1, 784]           1,568\n",
      "            Linear-3                  [-1, 300]         235,200\n",
      "              ReLU-4                  [-1, 300]               0\n",
      "       BatchNorm1d-5                  [-1, 300]             600\n",
      "            Linear-6                  [-1, 100]          30,000\n",
      "              ReLU-7                  [-1, 100]               0\n",
      "       BatchNorm1d-8                  [-1, 100]             200\n",
      "            Linear-9                   [-1, 10]           1,010\n",
      "          Softmax-10                   [-1, 10]               0\n",
      "================================================================\n",
      "Total params: 268,578\n",
      "Trainable params: 268,578\n",
      "Non-trainable params: 0\n",
      "----------------------------------------------------------------\n",
      "Input size (MB): 0.00\n",
      "Forward/backward pass size (MB): 0.02\n",
      "Params size (MB): 1.02\n",
      "Estimated Total Size (MB): 1.05\n",
      "----------------------------------------------------------------\n"
     ]
    }
   ],
   "source": [
    "model2 = Model_BN_nb()\n",
    "\n",
    "from torchsummary import summary\n",
    "summary(model2, (1,28,28))"
   ]
  },
  {
   "cell_type": "markdown",
   "metadata": {
    "ExecuteTime": {
     "end_time": "2021-02-18T08:11:34.431215Z",
     "start_time": "2021-02-18T08:11:34.418820Z"
    }
   },
   "source": [
    "# Gradient Clipping"
   ]
  },
  {
   "cell_type": "markdown",
   "metadata": {},
   "source": [
    "This needs to be done inside the PyTorchTrainer"
   ]
  },
  {
   "cell_type": "markdown",
   "metadata": {
    "ExecuteTime": {
     "end_time": "2021-02-18T08:21:29.359964Z",
     "start_time": "2021-02-18T08:21:29.357120Z"
    }
   },
   "source": [
    "### By Value"
   ]
  },
  {
   "cell_type": "markdown",
   "metadata": {},
   "source": [
    "```\n",
    "# backward pass and optimize\n",
    "                loss.backward()\n",
    "                nn.utils.clip_grad_value_(self.model.parameters(), clipvalue=1.0)\n",
    "                self.optim.step()\n",
    "```"
   ]
  },
  {
   "cell_type": "markdown",
   "metadata": {},
   "source": [
    "### By Norm"
   ]
  },
  {
   "cell_type": "markdown",
   "metadata": {
    "ExecuteTime": {
     "end_time": "2021-02-18T08:22:40.385899Z",
     "start_time": "2021-02-18T08:22:40.381482Z"
    }
   },
   "source": [
    "```\n",
    "# backward pass and optimize\n",
    "                loss.backward()\n",
    "                nn.utils.clip_grad_norm_(self.model.parameters(), max_norm=1.0, norm_type=2)\n",
    "                self.optim.step()\n",
    "```"
   ]
  },
  {
   "cell_type": "markdown",
   "metadata": {},
   "source": [
    "# Reusing a PyTorch Model"
   ]
  },
  {
   "cell_type": "code",
   "execution_count": 6,
   "metadata": {
    "ExecuteTime": {
     "end_time": "2021-02-20T12:18:15.987173Z",
     "start_time": "2021-02-20T12:18:15.293422Z"
    }
   },
   "outputs": [],
   "source": [
    "train_dataset = torchvision.datasets.FashionMNIST(\n",
    "                    root='.',\n",
    "                    train=True,\n",
    "                    transform=transforms.ToTensor(), # This will automatically normalize data!\n",
    "                    download=True\n",
    "                    )\n",
    "\n",
    "test_dataset = torchvision.datasets.FashionMNIST(\n",
    "                    root='.',\n",
    "                    train=False,\n",
    "                    transform=transforms.ToTensor(), # This will automatically normalize data!\n",
    "                    download=True\n",
    "                    )"
   ]
  },
  {
   "cell_type": "code",
   "execution_count": 7,
   "metadata": {
    "ExecuteTime": {
     "end_time": "2021-02-20T12:18:16.345322Z",
     "start_time": "2021-02-20T12:18:15.988712Z"
    }
   },
   "outputs": [],
   "source": [
    "def split_dataset(X, y):\n",
    "    y_5_or_6 = (y == 5) | (y == 6) # sandals or shirts\n",
    "    y_A = y[~y_5_or_6]\n",
    "    y_A[y_A > 6] -= 2 # class indices 7, 8, 9 should be moved to 5, 6, 7\n",
    "    y_B = torch.from_numpy((y[y_5_or_6] == 6).numpy().astype(np.float32)) # binary classification task: is it a shirt (class 6)?\n",
    "    return ((X[~y_5_or_6], y_A),\n",
    "            (X[y_5_or_6], y_B))\n",
    "\n",
    "(X_train_A, y_train_A), (X_train_B, y_train_B) = split_dataset(train_dataset.data, train_dataset.targets)\n",
    "(X_test_A, y_test_A), (X_test_B, y_test_B) = split_dataset(test_dataset.data, test_dataset.targets)\n",
    "X_train_B = X_train_B[:200]\n",
    "y_train_B = y_train_B[:200]"
   ]
  },
  {
   "cell_type": "code",
   "execution_count": 8,
   "metadata": {
    "ExecuteTime": {
     "end_time": "2021-02-20T12:18:16.549245Z",
     "start_time": "2021-02-20T12:18:16.504282Z"
    }
   },
   "outputs": [],
   "source": [
    "X_train_A = X_train_A.type(torch.FloatTensor)\n",
    "X_train_B = X_train_B.type(torch.FloatTensor)\n",
    "X_test_A = X_test_A.type(torch.FloatTensor)\n",
    "X_test_B = X_test_B.type(torch.FloatTensor)\n",
    "\n",
    "y_train_A = y_train_A.type(torch.LongTensor)\n",
    "y_train_B = y_train_B.type(torch.LongTensor)\n",
    "y_test_A = y_test_A.type(torch.LongTensor)\n",
    "y_test_B = y_test_B.type(torch.LongTensor)"
   ]
  },
  {
   "cell_type": "code",
   "execution_count": 9,
   "metadata": {
    "ExecuteTime": {
     "end_time": "2021-02-20T12:18:17.768685Z",
     "start_time": "2021-02-20T12:18:17.762029Z"
    }
   },
   "outputs": [],
   "source": [
    "train_a_dataset = torch.utils.data.TensorDataset(X_train_A, y_train_A)\n",
    "test_a_dataset = torch.utils.data.TensorDataset(X_test_A, y_test_A)\n",
    "\n",
    "train_b_dataset = torch.utils.data.TensorDataset(X_train_B, y_train_B)\n",
    "test_b_dataset = torch.utils.data.TensorDataset(X_test_B, y_test_B)"
   ]
  },
  {
   "cell_type": "code",
   "execution_count": 10,
   "metadata": {
    "ExecuteTime": {
     "end_time": "2021-02-20T12:18:19.172770Z",
     "start_time": "2021-02-20T12:18:19.165479Z"
    }
   },
   "outputs": [],
   "source": [
    "batch_size = 32 # The default in Keras\n",
    "train_loader = torch.utils.data.DataLoader(\n",
    "                        dataset=train_dataset,\n",
    "                        batch_size=batch_size,\n",
    "                        shuffle=False\n",
    "                        )\n",
    "\n",
    "\n",
    "test_loader = torch.utils.data.DataLoader(\n",
    "                        dataset=test_dataset,\n",
    "                        batch_size=batch_size,\n",
    "                        shuffle=False # Not necessary!\n",
    "                        )"
   ]
  },
  {
   "cell_type": "code",
   "execution_count": 11,
   "metadata": {
    "ExecuteTime": {
     "end_time": "2021-02-20T12:18:19.588042Z",
     "start_time": "2021-02-20T12:18:19.581234Z"
    }
   },
   "outputs": [],
   "source": [
    "batch_size = 32 # The default in Keras\n",
    "train_a_loader = torch.utils.data.DataLoader(\n",
    "                        dataset=train_a_dataset,\n",
    "                        batch_size=batch_size,\n",
    "                        shuffle=False\n",
    "                        )\n",
    "\n",
    "\n",
    "test_a_loader = torch.utils.data.DataLoader(\n",
    "                        dataset=test_a_dataset,\n",
    "                        batch_size=batch_size,\n",
    "                        shuffle=False # Not necessary!\n",
    "                        )\n",
    "\n",
    "train_b_loader = torch.utils.data.DataLoader(\n",
    "                        dataset=train_b_dataset,\n",
    "                        batch_size=batch_size,\n",
    "                        shuffle=False\n",
    "                        )\n",
    "\n",
    "\n",
    "test_b_loader = torch.utils.data.DataLoader(\n",
    "                        dataset=test_b_dataset,\n",
    "                        batch_size=batch_size,\n",
    "                        shuffle=False # Not necessary!\n",
    "                        )"
   ]
  },
  {
   "cell_type": "code",
   "execution_count": 12,
   "metadata": {
    "ExecuteTime": {
     "end_time": "2021-02-20T12:18:32.581943Z",
     "start_time": "2021-02-20T12:18:32.577369Z"
    }
   },
   "outputs": [],
   "source": [
    "class Model_TL_A(nn.Module):\n",
    "    def __init__(self):\n",
    "        super(Model_TL_A, self).__init__()\n",
    "        self.flatten = nn.Flatten()\n",
    "        current_dim = 784\n",
    "        layers = []\n",
    "        for n_hidden in (300, 100, 50, 50, 50):\n",
    "            layers.append(nn.Linear(current_dim, n_hidden))\n",
    "            layers.append(nn.SELU())\n",
    "            current_dim = n_hidden\n",
    "        self.layers = nn.Sequential(*layers)\n",
    "        self.linear1 = nn.Linear(current_dim, 8)\n",
    "            \n",
    "    def forward(self, X):\n",
    "        out = self.flatten(X)\n",
    "        for layer in self.layers:\n",
    "            out = layer(out)\n",
    "        out = self.linear1(out)\n",
    "        return out"
   ]
  },
  {
   "cell_type": "code",
   "execution_count": 13,
   "metadata": {
    "ExecuteTime": {
     "end_time": "2021-02-20T12:18:33.976244Z",
     "start_time": "2021-02-20T12:18:33.926773Z"
    }
   },
   "outputs": [
    {
     "name": "stdout",
     "output_type": "stream",
     "text": [
      "----------------------------------------------------------------\n",
      "        Layer (type)               Output Shape         Param #\n",
      "================================================================\n",
      "           Flatten-1                  [-1, 784]               0\n",
      "            Linear-2                  [-1, 300]         235,500\n",
      "              SELU-3                  [-1, 300]               0\n",
      "            Linear-4                  [-1, 100]          30,100\n",
      "              SELU-5                  [-1, 100]               0\n",
      "            Linear-6                   [-1, 50]           5,050\n",
      "              SELU-7                   [-1, 50]               0\n",
      "            Linear-8                   [-1, 50]           2,550\n",
      "              SELU-9                   [-1, 50]               0\n",
      "           Linear-10                   [-1, 50]           2,550\n",
      "             SELU-11                   [-1, 50]               0\n",
      "           Linear-12                    [-1, 8]             408\n",
      "================================================================\n",
      "Total params: 276,158\n",
      "Trainable params: 276,158\n",
      "Non-trainable params: 0\n",
      "----------------------------------------------------------------\n",
      "Input size (MB): 0.00\n",
      "Forward/backward pass size (MB): 0.01\n",
      "Params size (MB): 1.05\n",
      "Estimated Total Size (MB): 1.07\n",
      "----------------------------------------------------------------\n"
     ]
    }
   ],
   "source": [
    "model_tl_a = Model_TL_A()\n",
    "\n",
    "from torchsummary import summary\n",
    "summary(model_tl_a, (1,28,28))"
   ]
  },
  {
   "cell_type": "code",
   "execution_count": 14,
   "metadata": {
    "ExecuteTime": {
     "end_time": "2021-02-20T12:18:41.639555Z",
     "start_time": "2021-02-20T12:18:41.632869Z"
    }
   },
   "outputs": [],
   "source": [
    "loss_fn = nn.CrossEntropyLoss()\n",
    "optimizer = torch.optim.SGD(model_tl_a.parameters(), lr=0.001)"
   ]
  },
  {
   "cell_type": "code",
   "execution_count": 15,
   "metadata": {
    "ExecuteTime": {
     "end_time": "2021-02-20T12:18:42.198493Z",
     "start_time": "2021-02-20T12:18:42.186952Z"
    }
   },
   "outputs": [],
   "source": [
    "class PyTorchTrainer(object):\n",
    "    def __init__(self,\n",
    "                model,\n",
    "                optim,\n",
    "                loss_fn,\n",
    "                device=\"cpu\"):\n",
    "        self.model = model\n",
    "        self.optim = optim\n",
    "        self.loss_fn = loss_fn\n",
    "        self.device = device\n",
    "        \n",
    "    def fit(self,\n",
    "            train_loader,\n",
    "            test_loader,\n",
    "            n_epochs: int=100,\n",
    "            eval_inter: int=1):\n",
    "        history = {}\n",
    "        history['epoch'] = []\n",
    "        history['training_acc'] = []\n",
    "        history['test_acc'] = []\n",
    "        history['training_loss'] = []\n",
    "        history['test_loss'] = []\n",
    "        # Training Loop\n",
    "\n",
    "        history['p_test'] = []\n",
    "        p_test = np.array([]) # for listing all predictions - last epoch only\n",
    "\n",
    "        for epoch in range(n_epochs):\n",
    "            history['epoch'].append(epoch+1)\n",
    "            \n",
    "            self.model.train()\n",
    "            \n",
    "            train_loss = []\n",
    "            n_correct = 0.\n",
    "            n_total = 0.\n",
    "            for inputs, targets in tqdm(train_loader, leave=False):\n",
    "                # Move data to GPU\n",
    "                inputs, targets = inputs.to(self.device), targets.to(self.device)\n",
    "\n",
    "                # zero the gradient\n",
    "                self.optim.zero_grad()\n",
    "\n",
    "                # forward pass\n",
    "                outputs = self.model(inputs)\n",
    "                loss = self.loss_fn(outputs, targets)\n",
    "\n",
    "                # get prediction\n",
    "                _, predictions = torch.max(outputs, 1)\n",
    "\n",
    "                # update counts\n",
    "                n_correct += (predictions == targets).sum().item()\n",
    "                n_total += targets.shape[0]\n",
    "\n",
    "                # backward pass and optimize\n",
    "                loss.backward()\n",
    "                self.optim.step()\n",
    "\n",
    "                train_loss.append(loss.item())\n",
    "\n",
    "            train_loss = np.mean(train_loss)\n",
    "            history['training_acc'].append(n_correct / n_total * 100) \n",
    "            # save losses\n",
    "            history['training_loss'].append(train_loss) \n",
    "    \n",
    "           \n",
    "            self.model.eval()\n",
    "            with torch.no_grad():\n",
    "                test_loss = []\n",
    "                n_correct = 0.\n",
    "                n_total = 0.\n",
    "                for inputs, targets in test_loader:\n",
    "                    # Move data to GPU\n",
    "                    inputs, targets = inputs.to(self.device), targets.to(self.device)\n",
    "\n",
    "                    # forward pass\n",
    "                    outputs_test = self.model(inputs)\n",
    "                    loss_test = self.loss_fn(outputs_test, targets)\n",
    "\n",
    "                    # get prediction\n",
    "                    _, predictions = torch.max(outputs_test, 1)\n",
    "\n",
    "                    # update list of predictions  - done for last epoch only!\n",
    "                    if epoch == (n_epochs - 1):\n",
    "                        p_test = np.concatenate((p_test, predictions.cpu().numpy()))\n",
    "\n",
    "                    # update counts\n",
    "                    n_correct += (predictions == targets).sum().item()\n",
    "                    n_total += targets.shape[0]\n",
    "\n",
    "                    test_loss.append(loss_test.item())\n",
    "            history['p_test'] = p_test\n",
    "            test_loss = np.mean(test_loss)\n",
    "            history['test_acc'].append(n_correct / n_total * 100) \n",
    "            # save losses\n",
    "            history['test_loss'].append(test_loss) \n",
    "            \n",
    "            if (epoch +1) % eval_inter == 0:\n",
    "                print(f\"Epoch: {epoch+1}/{n_epochs}, Train Accuracy: {history['training_acc'][-1]:.2f}%, Test Accuracy: {history['test_acc'][-1]:.2f}%, Train Loss: {history['training_loss'][-1]:.4f}, Test Loss: {history['test_loss'][-1]:.4f}\", end='')\n",
    "        return history"
   ]
  },
  {
   "cell_type": "code",
   "execution_count": 16,
   "metadata": {
    "ExecuteTime": {
     "end_time": "2021-02-20T12:18:43.646669Z",
     "start_time": "2021-02-20T12:18:43.610184Z"
    }
   },
   "outputs": [
    {
     "name": "stdout",
     "output_type": "stream",
     "text": [
      "cpu\n"
     ]
    },
    {
     "data": {
      "text/plain": [
       "Model_TL_A(\n",
       "  (flatten): Flatten(start_dim=1, end_dim=-1)\n",
       "  (layers): Sequential(\n",
       "    (0): Linear(in_features=784, out_features=300, bias=True)\n",
       "    (1): SELU()\n",
       "    (2): Linear(in_features=300, out_features=100, bias=True)\n",
       "    (3): SELU()\n",
       "    (4): Linear(in_features=100, out_features=50, bias=True)\n",
       "    (5): SELU()\n",
       "    (6): Linear(in_features=50, out_features=50, bias=True)\n",
       "    (7): SELU()\n",
       "    (8): Linear(in_features=50, out_features=50, bias=True)\n",
       "    (9): SELU()\n",
       "  )\n",
       "  (linear1): Linear(in_features=50, out_features=8, bias=True)\n",
       ")"
      ]
     },
     "execution_count": 16,
     "metadata": {},
     "output_type": "execute_result"
    }
   ],
   "source": [
    "# If GPU...\n",
    "device = torch.device(\"cuda:0\" if torch.cuda.is_available() else \"cpu\")\n",
    "print(device)\n",
    "model_tl_a.to(device)"
   ]
  },
  {
   "cell_type": "code",
   "execution_count": 17,
   "metadata": {
    "ExecuteTime": {
     "end_time": "2021-02-20T09:16:19.314218Z",
     "start_time": "2021-02-20T09:14:42.508960Z"
    }
   },
   "outputs": [
    {
     "data": {
      "application/vnd.jupyter.widget-view+json": {
       "model_id": "",
       "version_major": 2,
       "version_minor": 0
      },
      "text/plain": [
       "  0%|          | 0/1500 [00:00<?, ?it/s]"
      ]
     },
     "metadata": {},
     "output_type": "display_data"
    },
    {
     "name": "stdout",
     "output_type": "stream",
     "text": [
      "Epoch: 1/20, Train Accuracy: 86.07%, Test Accuracy: 87.79%, Train Loss: 0.4087, Test Loss: 0.3434"
     ]
    },
    {
     "data": {
      "application/vnd.jupyter.widget-view+json": {
       "model_id": "",
       "version_major": 2,
       "version_minor": 0
      },
      "text/plain": [
       "  0%|          | 0/1500 [00:00<?, ?it/s]"
      ]
     },
     "metadata": {},
     "output_type": "display_data"
    },
    {
     "name": "stdout",
     "output_type": "stream",
     "text": [
      "Epoch: 2/20, Train Accuracy: 90.15%, Test Accuracy: 89.04%, Train Loss: 0.2848, Test Loss: 0.3051"
     ]
    },
    {
     "data": {
      "application/vnd.jupyter.widget-view+json": {
       "model_id": "",
       "version_major": 2,
       "version_minor": 0
      },
      "text/plain": [
       "  0%|          | 0/1500 [00:00<?, ?it/s]"
      ]
     },
     "metadata": {},
     "output_type": "display_data"
    },
    {
     "name": "stdout",
     "output_type": "stream",
     "text": [
      "Epoch: 3/20, Train Accuracy: 91.19%, Test Accuracy: 89.89%, Train Loss: 0.2561, Test Loss: 0.2862"
     ]
    },
    {
     "data": {
      "application/vnd.jupyter.widget-view+json": {
       "model_id": "",
       "version_major": 2,
       "version_minor": 0
      },
      "text/plain": [
       "  0%|          | 0/1500 [00:00<?, ?it/s]"
      ]
     },
     "metadata": {},
     "output_type": "display_data"
    },
    {
     "name": "stdout",
     "output_type": "stream",
     "text": [
      "Epoch: 4/20, Train Accuracy: 91.76%, Test Accuracy: 90.11%, Train Loss: 0.2378, Test Loss: 0.2770"
     ]
    },
    {
     "data": {
      "application/vnd.jupyter.widget-view+json": {
       "model_id": "",
       "version_major": 2,
       "version_minor": 0
      },
      "text/plain": [
       "  0%|          | 0/1500 [00:00<?, ?it/s]"
      ]
     },
     "metadata": {},
     "output_type": "display_data"
    },
    {
     "name": "stdout",
     "output_type": "stream",
     "text": [
      "Epoch: 5/20, Train Accuracy: 92.27%, Test Accuracy: 90.44%, Train Loss: 0.2240, Test Loss: 0.2661"
     ]
    },
    {
     "data": {
      "application/vnd.jupyter.widget-view+json": {
       "model_id": "",
       "version_major": 2,
       "version_minor": 0
      },
      "text/plain": [
       "  0%|          | 0/1500 [00:00<?, ?it/s]"
      ]
     },
     "metadata": {},
     "output_type": "display_data"
    },
    {
     "name": "stdout",
     "output_type": "stream",
     "text": [
      "Epoch: 6/20, Train Accuracy: 92.54%, Test Accuracy: 90.71%, Train Loss: 0.2127, Test Loss: 0.2575"
     ]
    },
    {
     "data": {
      "application/vnd.jupyter.widget-view+json": {
       "model_id": "",
       "version_major": 2,
       "version_minor": 0
      },
      "text/plain": [
       "  0%|          | 0/1500 [00:00<?, ?it/s]"
      ]
     },
     "metadata": {},
     "output_type": "display_data"
    },
    {
     "name": "stdout",
     "output_type": "stream",
     "text": [
      "Epoch: 7/20, Train Accuracy: 92.83%, Test Accuracy: 90.95%, Train Loss: 0.2030, Test Loss: 0.2506"
     ]
    },
    {
     "data": {
      "application/vnd.jupyter.widget-view+json": {
       "model_id": "",
       "version_major": 2,
       "version_minor": 0
      },
      "text/plain": [
       "  0%|          | 0/1500 [00:00<?, ?it/s]"
      ]
     },
     "metadata": {},
     "output_type": "display_data"
    },
    {
     "name": "stdout",
     "output_type": "stream",
     "text": [
      "Epoch: 8/20, Train Accuracy: 93.14%, Test Accuracy: 91.21%, Train Loss: 0.1940, Test Loss: 0.2450"
     ]
    },
    {
     "data": {
      "application/vnd.jupyter.widget-view+json": {
       "model_id": "",
       "version_major": 2,
       "version_minor": 0
      },
      "text/plain": [
       "  0%|          | 0/1500 [00:00<?, ?it/s]"
      ]
     },
     "metadata": {},
     "output_type": "display_data"
    },
    {
     "name": "stdout",
     "output_type": "stream",
     "text": [
      "Epoch: 9/20, Train Accuracy: 93.45%, Test Accuracy: 91.38%, Train Loss: 0.1858, Test Loss: 0.2393"
     ]
    },
    {
     "data": {
      "application/vnd.jupyter.widget-view+json": {
       "model_id": "",
       "version_major": 2,
       "version_minor": 0
      },
      "text/plain": [
       "  0%|          | 0/1500 [00:00<?, ?it/s]"
      ]
     },
     "metadata": {},
     "output_type": "display_data"
    },
    {
     "name": "stdout",
     "output_type": "stream",
     "text": [
      "Epoch: 10/20, Train Accuracy: 93.68%, Test Accuracy: 91.70%, Train Loss: 0.1783, Test Loss: 0.2330"
     ]
    },
    {
     "data": {
      "application/vnd.jupyter.widget-view+json": {
       "model_id": "",
       "version_major": 2,
       "version_minor": 0
      },
      "text/plain": [
       "  0%|          | 0/1500 [00:00<?, ?it/s]"
      ]
     },
     "metadata": {},
     "output_type": "display_data"
    },
    {
     "name": "stdout",
     "output_type": "stream",
     "text": [
      "Epoch: 11/20, Train Accuracy: 93.91%, Test Accuracy: 91.70%, Train Loss: 0.1712, Test Loss: 0.2324"
     ]
    },
    {
     "data": {
      "application/vnd.jupyter.widget-view+json": {
       "model_id": "",
       "version_major": 2,
       "version_minor": 0
      },
      "text/plain": [
       "  0%|          | 0/1500 [00:00<?, ?it/s]"
      ]
     },
     "metadata": {},
     "output_type": "display_data"
    },
    {
     "name": "stdout",
     "output_type": "stream",
     "text": [
      "Epoch: 12/20, Train Accuracy: 94.16%, Test Accuracy: 91.72%, Train Loss: 0.1648, Test Loss: 0.2311"
     ]
    },
    {
     "data": {
      "application/vnd.jupyter.widget-view+json": {
       "model_id": "",
       "version_major": 2,
       "version_minor": 0
      },
      "text/plain": [
       "  0%|          | 0/1500 [00:00<?, ?it/s]"
      ]
     },
     "metadata": {},
     "output_type": "display_data"
    },
    {
     "name": "stdout",
     "output_type": "stream",
     "text": [
      "Epoch: 13/20, Train Accuracy: 94.38%, Test Accuracy: 91.84%, Train Loss: 0.1586, Test Loss: 0.2284"
     ]
    },
    {
     "data": {
      "application/vnd.jupyter.widget-view+json": {
       "model_id": "",
       "version_major": 2,
       "version_minor": 0
      },
      "text/plain": [
       "  0%|          | 0/1500 [00:00<?, ?it/s]"
      ]
     },
     "metadata": {},
     "output_type": "display_data"
    },
    {
     "name": "stdout",
     "output_type": "stream",
     "text": [
      "Epoch: 14/20, Train Accuracy: 94.63%, Test Accuracy: 91.80%, Train Loss: 0.1528, Test Loss: 0.2278"
     ]
    },
    {
     "data": {
      "application/vnd.jupyter.widget-view+json": {
       "model_id": "",
       "version_major": 2,
       "version_minor": 0
      },
      "text/plain": [
       "  0%|          | 0/1500 [00:00<?, ?it/s]"
      ]
     },
     "metadata": {},
     "output_type": "display_data"
    },
    {
     "name": "stdout",
     "output_type": "stream",
     "text": [
      "Epoch: 15/20, Train Accuracy: 94.80%, Test Accuracy: 92.16%, Train Loss: 0.1474, Test Loss: 0.2248"
     ]
    },
    {
     "data": {
      "application/vnd.jupyter.widget-view+json": {
       "model_id": "",
       "version_major": 2,
       "version_minor": 0
      },
      "text/plain": [
       "  0%|          | 0/1500 [00:00<?, ?it/s]"
      ]
     },
     "metadata": {},
     "output_type": "display_data"
    },
    {
     "name": "stdout",
     "output_type": "stream",
     "text": [
      "Epoch: 16/20, Train Accuracy: 94.99%, Test Accuracy: 92.15%, Train Loss: 0.1421, Test Loss: 0.2264"
     ]
    },
    {
     "data": {
      "application/vnd.jupyter.widget-view+json": {
       "model_id": "",
       "version_major": 2,
       "version_minor": 0
      },
      "text/plain": [
       "  0%|          | 0/1500 [00:00<?, ?it/s]"
      ]
     },
     "metadata": {},
     "output_type": "display_data"
    },
    {
     "name": "stdout",
     "output_type": "stream",
     "text": [
      "Epoch: 17/20, Train Accuracy: 95.20%, Test Accuracy: 92.06%, Train Loss: 0.1371, Test Loss: 0.2280"
     ]
    },
    {
     "data": {
      "application/vnd.jupyter.widget-view+json": {
       "model_id": "",
       "version_major": 2,
       "version_minor": 0
      },
      "text/plain": [
       "  0%|          | 0/1500 [00:00<?, ?it/s]"
      ]
     },
     "metadata": {},
     "output_type": "display_data"
    },
    {
     "name": "stdout",
     "output_type": "stream",
     "text": [
      "Epoch: 18/20, Train Accuracy: 95.39%, Test Accuracy: 92.07%, Train Loss: 0.1325, Test Loss: 0.2279"
     ]
    },
    {
     "data": {
      "application/vnd.jupyter.widget-view+json": {
       "model_id": "",
       "version_major": 2,
       "version_minor": 0
      },
      "text/plain": [
       "  0%|          | 0/1500 [00:00<?, ?it/s]"
      ]
     },
     "metadata": {},
     "output_type": "display_data"
    },
    {
     "name": "stdout",
     "output_type": "stream",
     "text": [
      "Epoch: 19/20, Train Accuracy: 95.51%, Test Accuracy: 92.00%, Train Loss: 0.1278, Test Loss: 0.2293"
     ]
    },
    {
     "data": {
      "application/vnd.jupyter.widget-view+json": {
       "model_id": "",
       "version_major": 2,
       "version_minor": 0
      },
      "text/plain": [
       "  0%|          | 0/1500 [00:00<?, ?it/s]"
      ]
     },
     "metadata": {},
     "output_type": "display_data"
    },
    {
     "name": "stdout",
     "output_type": "stream",
     "text": [
      "Epoch: 20/20, Train Accuracy: 95.67%, Test Accuracy: 92.11%, Train Loss: 0.1232, Test Loss: 0.2300"
     ]
    }
   ],
   "source": [
    "trainer = PyTorchTrainer(model_tl_a, optimizer, loss_fn,device)\n",
    "history={}\n",
    "history = trainer.fit(train_a_loader,test_a_loader,20,1)"
   ]
  },
  {
   "cell_type": "code",
   "execution_count": 18,
   "metadata": {
    "ExecuteTime": {
     "end_time": "2021-02-20T09:16:19.320624Z",
     "start_time": "2021-02-20T09:16:19.315516Z"
    }
   },
   "outputs": [],
   "source": [
    "torch.save(model_tl_a.state_dict(), 'model_tl_a.pth')"
   ]
  },
  {
   "cell_type": "code",
   "execution_count": 17,
   "metadata": {
    "ExecuteTime": {
     "end_time": "2021-02-20T12:19:09.436092Z",
     "start_time": "2021-02-20T12:19:09.428606Z"
    }
   },
   "outputs": [],
   "source": [
    "class Model_TL_B(nn.Module):\n",
    "    def __init__(self):\n",
    "        super(Model_TL_B, self).__init__()\n",
    "        self.flatten = nn.Flatten()\n",
    "        current_dim = 784\n",
    "        layers = []\n",
    "        for n_hidden in (300, 100, 50, 50, 50):\n",
    "            layers.append(nn.Linear(current_dim, n_hidden))\n",
    "            layers.append(nn.SELU())\n",
    "            current_dim = n_hidden\n",
    "        self.layers = nn.Sequential(*layers)\n",
    "        self.linear1 = nn.Linear(current_dim, 2)\n",
    "            \n",
    "    def forward(self, X):\n",
    "        out = self.flatten(X)\n",
    "        for layer in self.layers:\n",
    "            out = layer(out)\n",
    "        out = self.linear1(out)\n",
    "        return out"
   ]
  },
  {
   "cell_type": "code",
   "execution_count": 18,
   "metadata": {
    "ExecuteTime": {
     "end_time": "2021-02-20T12:19:11.558102Z",
     "start_time": "2021-02-20T12:19:11.543142Z"
    }
   },
   "outputs": [
    {
     "name": "stdout",
     "output_type": "stream",
     "text": [
      "----------------------------------------------------------------\n",
      "        Layer (type)               Output Shape         Param #\n",
      "================================================================\n",
      "           Flatten-1                  [-1, 784]               0\n",
      "            Linear-2                  [-1, 300]         235,500\n",
      "              SELU-3                  [-1, 300]               0\n",
      "            Linear-4                  [-1, 100]          30,100\n",
      "              SELU-5                  [-1, 100]               0\n",
      "            Linear-6                   [-1, 50]           5,050\n",
      "              SELU-7                   [-1, 50]               0\n",
      "            Linear-8                   [-1, 50]           2,550\n",
      "              SELU-9                   [-1, 50]               0\n",
      "           Linear-10                   [-1, 50]           2,550\n",
      "             SELU-11                   [-1, 50]               0\n",
      "           Linear-12                    [-1, 2]             102\n",
      "================================================================\n",
      "Total params: 275,852\n",
      "Trainable params: 275,852\n",
      "Non-trainable params: 0\n",
      "----------------------------------------------------------------\n",
      "Input size (MB): 0.00\n",
      "Forward/backward pass size (MB): 0.01\n",
      "Params size (MB): 1.05\n",
      "Estimated Total Size (MB): 1.07\n",
      "----------------------------------------------------------------\n"
     ]
    }
   ],
   "source": [
    "model_tl_b = Model_TL_B()\n",
    "\n",
    "from torchsummary import summary\n",
    "summary(model_tl_b, (1,28,28))"
   ]
  },
  {
   "cell_type": "code",
   "execution_count": 19,
   "metadata": {
    "ExecuteTime": {
     "end_time": "2021-02-20T12:19:21.620503Z",
     "start_time": "2021-02-20T12:19:21.611563Z"
    }
   },
   "outputs": [
    {
     "name": "stdout",
     "output_type": "stream",
     "text": [
      "cpu\n"
     ]
    },
    {
     "data": {
      "text/plain": [
       "Model_TL_B(\n",
       "  (flatten): Flatten(start_dim=1, end_dim=-1)\n",
       "  (layers): Sequential(\n",
       "    (0): Linear(in_features=784, out_features=300, bias=True)\n",
       "    (1): SELU()\n",
       "    (2): Linear(in_features=300, out_features=100, bias=True)\n",
       "    (3): SELU()\n",
       "    (4): Linear(in_features=100, out_features=50, bias=True)\n",
       "    (5): SELU()\n",
       "    (6): Linear(in_features=50, out_features=50, bias=True)\n",
       "    (7): SELU()\n",
       "    (8): Linear(in_features=50, out_features=50, bias=True)\n",
       "    (9): SELU()\n",
       "  )\n",
       "  (linear1): Linear(in_features=50, out_features=2, bias=True)\n",
       ")"
      ]
     },
     "execution_count": 19,
     "metadata": {},
     "output_type": "execute_result"
    }
   ],
   "source": [
    "# If GPU...\n",
    "device = torch.device(\"cuda:0\" if torch.cuda.is_available() else \"cpu\")\n",
    "print(device)\n",
    "model_tl_b.to(device)"
   ]
  },
  {
   "cell_type": "code",
   "execution_count": 20,
   "metadata": {
    "ExecuteTime": {
     "end_time": "2021-02-20T12:19:23.075802Z",
     "start_time": "2021-02-20T12:19:23.069124Z"
    }
   },
   "outputs": [],
   "source": [
    "loss_fn = nn.CrossEntropyLoss()\n",
    "optimizer = torch.optim.SGD(model_tl_b.parameters(), lr=0.001)"
   ]
  },
  {
   "cell_type": "code",
   "execution_count": 21,
   "metadata": {
    "ExecuteTime": {
     "end_time": "2021-02-20T12:19:26.264976Z",
     "start_time": "2021-02-20T12:19:23.872601Z"
    }
   },
   "outputs": [
    {
     "data": {
      "application/vnd.jupyter.widget-view+json": {
       "model_id": "",
       "version_major": 2,
       "version_minor": 0
      },
      "text/plain": [
       "  0%|          | 0/7 [00:00<?, ?it/s]"
      ]
     },
     "metadata": {},
     "output_type": "display_data"
    },
    {
     "name": "stdout",
     "output_type": "stream",
     "text": [
      "Epoch: 1/20, Train Accuracy: 72.50%, Test Accuracy: 81.05%, Train Loss: 0.5325, Test Loss: 0.4075"
     ]
    },
    {
     "data": {
      "application/vnd.jupyter.widget-view+json": {
       "model_id": "",
       "version_major": 2,
       "version_minor": 0
      },
      "text/plain": [
       "  0%|          | 0/7 [00:00<?, ?it/s]"
      ]
     },
     "metadata": {},
     "output_type": "display_data"
    },
    {
     "name": "stdout",
     "output_type": "stream",
     "text": [
      "Epoch: 2/20, Train Accuracy: 88.50%, Test Accuracy: 91.75%, Train Loss: 0.3144, Test Loss: 0.2796"
     ]
    },
    {
     "data": {
      "application/vnd.jupyter.widget-view+json": {
       "model_id": "",
       "version_major": 2,
       "version_minor": 0
      },
      "text/plain": [
       "  0%|          | 0/7 [00:00<?, ?it/s]"
      ]
     },
     "metadata": {},
     "output_type": "display_data"
    },
    {
     "name": "stdout",
     "output_type": "stream",
     "text": [
      "Epoch: 3/20, Train Accuracy: 94.50%, Test Accuracy: 95.70%, Train Loss: 0.2177, Test Loss: 0.2130"
     ]
    },
    {
     "data": {
      "application/vnd.jupyter.widget-view+json": {
       "model_id": "",
       "version_major": 2,
       "version_minor": 0
      },
      "text/plain": [
       "  0%|          | 0/7 [00:00<?, ?it/s]"
      ]
     },
     "metadata": {},
     "output_type": "display_data"
    },
    {
     "name": "stdout",
     "output_type": "stream",
     "text": [
      "Epoch: 4/20, Train Accuracy: 96.50%, Test Accuracy: 97.10%, Train Loss: 0.1654, Test Loss: 0.1742"
     ]
    },
    {
     "data": {
      "application/vnd.jupyter.widget-view+json": {
       "model_id": "",
       "version_major": 2,
       "version_minor": 0
      },
      "text/plain": [
       "  0%|          | 0/7 [00:00<?, ?it/s]"
      ]
     },
     "metadata": {},
     "output_type": "display_data"
    },
    {
     "name": "stdout",
     "output_type": "stream",
     "text": [
      "Epoch: 5/20, Train Accuracy: 98.50%, Test Accuracy: 97.55%, Train Loss: 0.1337, Test Loss: 0.1497"
     ]
    },
    {
     "data": {
      "application/vnd.jupyter.widget-view+json": {
       "model_id": "",
       "version_major": 2,
       "version_minor": 0
      },
      "text/plain": [
       "  0%|          | 0/7 [00:00<?, ?it/s]"
      ]
     },
     "metadata": {},
     "output_type": "display_data"
    },
    {
     "name": "stdout",
     "output_type": "stream",
     "text": [
      "Epoch: 6/20, Train Accuracy: 98.50%, Test Accuracy: 97.85%, Train Loss: 0.1121, Test Loss: 0.1324"
     ]
    },
    {
     "data": {
      "application/vnd.jupyter.widget-view+json": {
       "model_id": "",
       "version_major": 2,
       "version_minor": 0
      },
      "text/plain": [
       "  0%|          | 0/7 [00:00<?, ?it/s]"
      ]
     },
     "metadata": {},
     "output_type": "display_data"
    },
    {
     "name": "stdout",
     "output_type": "stream",
     "text": [
      "Epoch: 7/20, Train Accuracy: 99.00%, Test Accuracy: 97.95%, Train Loss: 0.0961, Test Loss: 0.1184"
     ]
    },
    {
     "data": {
      "application/vnd.jupyter.widget-view+json": {
       "model_id": "",
       "version_major": 2,
       "version_minor": 0
      },
      "text/plain": [
       "  0%|          | 0/7 [00:00<?, ?it/s]"
      ]
     },
     "metadata": {},
     "output_type": "display_data"
    },
    {
     "name": "stdout",
     "output_type": "stream",
     "text": [
      "Epoch: 8/20, Train Accuracy: 99.00%, Test Accuracy: 98.25%, Train Loss: 0.0839, Test Loss: 0.1079"
     ]
    },
    {
     "data": {
      "application/vnd.jupyter.widget-view+json": {
       "model_id": "",
       "version_major": 2,
       "version_minor": 0
      },
      "text/plain": [
       "  0%|          | 0/7 [00:00<?, ?it/s]"
      ]
     },
     "metadata": {},
     "output_type": "display_data"
    },
    {
     "name": "stdout",
     "output_type": "stream",
     "text": [
      "Epoch: 9/20, Train Accuracy: 99.00%, Test Accuracy: 98.30%, Train Loss: 0.0742, Test Loss: 0.0994"
     ]
    },
    {
     "data": {
      "application/vnd.jupyter.widget-view+json": {
       "model_id": "",
       "version_major": 2,
       "version_minor": 0
      },
      "text/plain": [
       "  0%|          | 0/7 [00:00<?, ?it/s]"
      ]
     },
     "metadata": {},
     "output_type": "display_data"
    },
    {
     "name": "stdout",
     "output_type": "stream",
     "text": [
      "Epoch: 10/20, Train Accuracy: 99.50%, Test Accuracy: 98.35%, Train Loss: 0.0663, Test Loss: 0.0922"
     ]
    },
    {
     "data": {
      "application/vnd.jupyter.widget-view+json": {
       "model_id": "",
       "version_major": 2,
       "version_minor": 0
      },
      "text/plain": [
       "  0%|          | 0/7 [00:00<?, ?it/s]"
      ]
     },
     "metadata": {},
     "output_type": "display_data"
    },
    {
     "name": "stdout",
     "output_type": "stream",
     "text": [
      "Epoch: 11/20, Train Accuracy: 99.50%, Test Accuracy: 98.35%, Train Loss: 0.0598, Test Loss: 0.0861"
     ]
    },
    {
     "data": {
      "application/vnd.jupyter.widget-view+json": {
       "model_id": "",
       "version_major": 2,
       "version_minor": 0
      },
      "text/plain": [
       "  0%|          | 0/7 [00:00<?, ?it/s]"
      ]
     },
     "metadata": {},
     "output_type": "display_data"
    },
    {
     "name": "stdout",
     "output_type": "stream",
     "text": [
      "Epoch: 12/20, Train Accuracy: 100.00%, Test Accuracy: 98.50%, Train Loss: 0.0542, Test Loss: 0.0809"
     ]
    },
    {
     "data": {
      "application/vnd.jupyter.widget-view+json": {
       "model_id": "",
       "version_major": 2,
       "version_minor": 0
      },
      "text/plain": [
       "  0%|          | 0/7 [00:00<?, ?it/s]"
      ]
     },
     "metadata": {},
     "output_type": "display_data"
    },
    {
     "name": "stdout",
     "output_type": "stream",
     "text": [
      "Epoch: 13/20, Train Accuracy: 100.00%, Test Accuracy: 98.65%, Train Loss: 0.0494, Test Loss: 0.0763"
     ]
    },
    {
     "data": {
      "application/vnd.jupyter.widget-view+json": {
       "model_id": "",
       "version_major": 2,
       "version_minor": 0
      },
      "text/plain": [
       "  0%|          | 0/7 [00:00<?, ?it/s]"
      ]
     },
     "metadata": {},
     "output_type": "display_data"
    },
    {
     "name": "stdout",
     "output_type": "stream",
     "text": [
      "Epoch: 14/20, Train Accuracy: 100.00%, Test Accuracy: 98.65%, Train Loss: 0.0452, Test Loss: 0.0724"
     ]
    },
    {
     "data": {
      "application/vnd.jupyter.widget-view+json": {
       "model_id": "",
       "version_major": 2,
       "version_minor": 0
      },
      "text/plain": [
       "  0%|          | 0/7 [00:00<?, ?it/s]"
      ]
     },
     "metadata": {},
     "output_type": "display_data"
    },
    {
     "name": "stdout",
     "output_type": "stream",
     "text": [
      "Epoch: 15/20, Train Accuracy: 100.00%, Test Accuracy: 98.70%, Train Loss: 0.0417, Test Loss: 0.0689"
     ]
    },
    {
     "data": {
      "application/vnd.jupyter.widget-view+json": {
       "model_id": "",
       "version_major": 2,
       "version_minor": 0
      },
      "text/plain": [
       "  0%|          | 0/7 [00:00<?, ?it/s]"
      ]
     },
     "metadata": {},
     "output_type": "display_data"
    },
    {
     "name": "stdout",
     "output_type": "stream",
     "text": [
      "Epoch: 16/20, Train Accuracy: 100.00%, Test Accuracy: 98.70%, Train Loss: 0.0386, Test Loss: 0.0659"
     ]
    },
    {
     "data": {
      "application/vnd.jupyter.widget-view+json": {
       "model_id": "",
       "version_major": 2,
       "version_minor": 0
      },
      "text/plain": [
       "  0%|          | 0/7 [00:00<?, ?it/s]"
      ]
     },
     "metadata": {},
     "output_type": "display_data"
    },
    {
     "name": "stdout",
     "output_type": "stream",
     "text": [
      "Epoch: 17/20, Train Accuracy: 100.00%, Test Accuracy: 98.70%, Train Loss: 0.0358, Test Loss: 0.0632"
     ]
    },
    {
     "data": {
      "application/vnd.jupyter.widget-view+json": {
       "model_id": "",
       "version_major": 2,
       "version_minor": 0
      },
      "text/plain": [
       "  0%|          | 0/7 [00:00<?, ?it/s]"
      ]
     },
     "metadata": {},
     "output_type": "display_data"
    },
    {
     "name": "stdout",
     "output_type": "stream",
     "text": [
      "Epoch: 18/20, Train Accuracy: 100.00%, Test Accuracy: 98.70%, Train Loss: 0.0334, Test Loss: 0.0607"
     ]
    },
    {
     "data": {
      "application/vnd.jupyter.widget-view+json": {
       "model_id": "",
       "version_major": 2,
       "version_minor": 0
      },
      "text/plain": [
       "  0%|          | 0/7 [00:00<?, ?it/s]"
      ]
     },
     "metadata": {},
     "output_type": "display_data"
    },
    {
     "name": "stdout",
     "output_type": "stream",
     "text": [
      "Epoch: 19/20, Train Accuracy: 100.00%, Test Accuracy: 98.70%, Train Loss: 0.0312, Test Loss: 0.0585"
     ]
    },
    {
     "data": {
      "application/vnd.jupyter.widget-view+json": {
       "model_id": "",
       "version_major": 2,
       "version_minor": 0
      },
      "text/plain": [
       "  0%|          | 0/7 [00:00<?, ?it/s]"
      ]
     },
     "metadata": {},
     "output_type": "display_data"
    },
    {
     "name": "stdout",
     "output_type": "stream",
     "text": [
      "Epoch: 20/20, Train Accuracy: 100.00%, Test Accuracy: 98.70%, Train Loss: 0.0292, Test Loss: 0.0565"
     ]
    }
   ],
   "source": [
    "trainer = PyTorchTrainer(model_tl_b, optimizer, loss_fn,device)\n",
    "history={}\n",
    "history = trainer.fit(train_b_loader,test_b_loader,20,1)"
   ]
  },
  {
   "cell_type": "code",
   "execution_count": 24,
   "metadata": {
    "ExecuteTime": {
     "end_time": "2021-02-20T09:16:22.391609Z",
     "start_time": "2021-02-20T09:16:22.385004Z"
    }
   },
   "outputs": [],
   "source": [
    "class Model_TL_B_on_A(nn.Module):\n",
    "    def __init__(self, Model_TL_A):\n",
    "        super(Model_TL_B_on_A, self).__init__()\n",
    "        model_tl_a = Model_TL_A()\n",
    "        self.model = nn.Sequential(*list(model_tl_a.children())[:-1])\n",
    "        self.linear1 = nn.Linear(50, 2)\n",
    "            \n",
    "    def forward(self, X):\n",
    "        out = self.model(X)\n",
    "        out = self.linear1(out)\n",
    "        return out"
   ]
  },
  {
   "cell_type": "code",
   "execution_count": 25,
   "metadata": {
    "ExecuteTime": {
     "end_time": "2021-02-20T09:16:22.538540Z",
     "start_time": "2021-02-20T09:16:22.393002Z"
    }
   },
   "outputs": [
    {
     "name": "stdout",
     "output_type": "stream",
     "text": [
      "----------------------------------------------------------------\n",
      "        Layer (type)               Output Shape         Param #\n",
      "================================================================\n",
      "           Flatten-1                  [-1, 784]               0\n",
      "            Linear-2                  [-1, 300]         235,500\n",
      "              SELU-3                  [-1, 300]               0\n",
      "            Linear-4                  [-1, 100]          30,100\n",
      "              SELU-5                  [-1, 100]               0\n",
      "            Linear-6                   [-1, 50]           5,050\n",
      "              SELU-7                   [-1, 50]               0\n",
      "            Linear-8                   [-1, 50]           2,550\n",
      "              SELU-9                   [-1, 50]               0\n",
      "           Linear-10                   [-1, 50]           2,550\n",
      "             SELU-11                   [-1, 50]               0\n",
      "           Linear-12                    [-1, 2]             102\n",
      "================================================================\n",
      "Total params: 275,852\n",
      "Trainable params: 275,852\n",
      "Non-trainable params: 0\n",
      "----------------------------------------------------------------\n",
      "Input size (MB): 0.00\n",
      "Forward/backward pass size (MB): 0.01\n",
      "Params size (MB): 1.05\n",
      "Estimated Total Size (MB): 1.07\n",
      "----------------------------------------------------------------\n"
     ]
    }
   ],
   "source": [
    "model_tl_b_on_a = Model_TL_B_on_A(Model_TL_A)\n",
    "from torchsummary import summary\n",
    "summary(model_tl_b_on_a, (1,28,28))"
   ]
  },
  {
   "cell_type": "code",
   "execution_count": 26,
   "metadata": {
    "ExecuteTime": {
     "end_time": "2021-02-20T09:16:22.578060Z",
     "start_time": "2021-02-20T09:16:22.540046Z"
    }
   },
   "outputs": [],
   "source": [
    "for parameter in model_tl_b_on_a.parameters():\n",
    "    parameter.requires_grad = False\n",
    "\n",
    "model_tl_b_on_a.linear1.weight.requires_grad = True\n",
    "model_tl_b_on_a.linear1.bias.requires_grad = True"
   ]
  },
  {
   "cell_type": "code",
   "execution_count": 27,
   "metadata": {
    "ExecuteTime": {
     "end_time": "2021-02-20T09:16:22.627555Z",
     "start_time": "2021-02-20T09:16:22.579665Z"
    }
   },
   "outputs": [],
   "source": [
    "loss_fn = nn.CrossEntropyLoss()\n",
    "optimizer = torch.optim.SGD(model_tl_b_on_a.parameters(), lr=0.001)"
   ]
  },
  {
   "cell_type": "code",
   "execution_count": 28,
   "metadata": {
    "ExecuteTime": {
     "end_time": "2021-02-20T09:16:23.158881Z",
     "start_time": "2021-02-20T09:16:22.629373Z"
    }
   },
   "outputs": [
    {
     "data": {
      "application/vnd.jupyter.widget-view+json": {
       "model_id": "",
       "version_major": 2,
       "version_minor": 0
      },
      "text/plain": [
       "  0%|          | 0/7 [00:00<?, ?it/s]"
      ]
     },
     "metadata": {},
     "output_type": "display_data"
    },
    {
     "name": "stdout",
     "output_type": "stream",
     "text": [
      "Epoch: 1/4, Train Accuracy: 53.00%, Test Accuracy: 51.75%, Train Loss: 0.7895, Test Loss: 0.8038"
     ]
    },
    {
     "data": {
      "application/vnd.jupyter.widget-view+json": {
       "model_id": "",
       "version_major": 2,
       "version_minor": 0
      },
      "text/plain": [
       "  0%|          | 0/7 [00:00<?, ?it/s]"
      ]
     },
     "metadata": {},
     "output_type": "display_data"
    },
    {
     "name": "stdout",
     "output_type": "stream",
     "text": [
      "Epoch: 2/4, Train Accuracy: 55.50%, Test Accuracy: 52.75%, Train Loss: 0.7394, Test Loss: 0.7582"
     ]
    },
    {
     "data": {
      "application/vnd.jupyter.widget-view+json": {
       "model_id": "",
       "version_major": 2,
       "version_minor": 0
      },
      "text/plain": [
       "  0%|          | 0/7 [00:00<?, ?it/s]"
      ]
     },
     "metadata": {},
     "output_type": "display_data"
    },
    {
     "name": "stdout",
     "output_type": "stream",
     "text": [
      "Epoch: 3/4, Train Accuracy: 58.50%, Test Accuracy: 53.80%, Train Loss: 0.7012, Test Loss: 0.7236"
     ]
    },
    {
     "data": {
      "application/vnd.jupyter.widget-view+json": {
       "model_id": "",
       "version_major": 2,
       "version_minor": 0
      },
      "text/plain": [
       "  0%|          | 0/7 [00:00<?, ?it/s]"
      ]
     },
     "metadata": {},
     "output_type": "display_data"
    },
    {
     "name": "stdout",
     "output_type": "stream",
     "text": [
      "Epoch: 4/4, Train Accuracy: 60.00%, Test Accuracy: 55.35%, Train Loss: 0.6720, Test Loss: 0.6969"
     ]
    }
   ],
   "source": [
    "trainer = PyTorchTrainer(model_tl_b_on_a, optimizer, loss_fn,device)\n",
    "history={}\n",
    "history = trainer.fit(train_b_loader,test_b_loader,4,1)"
   ]
  },
  {
   "cell_type": "code",
   "execution_count": 29,
   "metadata": {
    "ExecuteTime": {
     "end_time": "2021-02-20T09:16:23.163431Z",
     "start_time": "2021-02-20T09:16:23.160676Z"
    }
   },
   "outputs": [],
   "source": [
    "for parameter in model_tl_b_on_a.parameters():\n",
    "    parameter.requires_grad = True"
   ]
  },
  {
   "cell_type": "code",
   "execution_count": 30,
   "metadata": {
    "ExecuteTime": {
     "end_time": "2021-02-20T09:16:25.375908Z",
     "start_time": "2021-02-20T09:16:23.164916Z"
    }
   },
   "outputs": [
    {
     "data": {
      "application/vnd.jupyter.widget-view+json": {
       "model_id": "",
       "version_major": 2,
       "version_minor": 0
      },
      "text/plain": [
       "  0%|          | 0/7 [00:00<?, ?it/s]"
      ]
     },
     "metadata": {},
     "output_type": "display_data"
    },
    {
     "name": "stdout",
     "output_type": "stream",
     "text": [
      "Epoch: 1/16, Train Accuracy: 74.50%, Test Accuracy: 85.40%, Train Loss: 0.5003, Test Loss: 0.3831"
     ]
    },
    {
     "data": {
      "application/vnd.jupyter.widget-view+json": {
       "model_id": "",
       "version_major": 2,
       "version_minor": 0
      },
      "text/plain": [
       "  0%|          | 0/7 [00:00<?, ?it/s]"
      ]
     },
     "metadata": {},
     "output_type": "display_data"
    },
    {
     "name": "stdout",
     "output_type": "stream",
     "text": [
      "Epoch: 2/16, Train Accuracy: 93.50%, Test Accuracy: 93.10%, Train Loss: 0.2907, Test Loss: 0.2743"
     ]
    },
    {
     "data": {
      "application/vnd.jupyter.widget-view+json": {
       "model_id": "",
       "version_major": 2,
       "version_minor": 0
      },
      "text/plain": [
       "  0%|          | 0/7 [00:00<?, ?it/s]"
      ]
     },
     "metadata": {},
     "output_type": "display_data"
    },
    {
     "name": "stdout",
     "output_type": "stream",
     "text": [
      "Epoch: 3/16, Train Accuracy: 97.50%, Test Accuracy: 95.65%, Train Loss: 0.2048, Test Loss: 0.2142"
     ]
    },
    {
     "data": {
      "application/vnd.jupyter.widget-view+json": {
       "model_id": "",
       "version_major": 2,
       "version_minor": 0
      },
      "text/plain": [
       "  0%|          | 0/7 [00:00<?, ?it/s]"
      ]
     },
     "metadata": {},
     "output_type": "display_data"
    },
    {
     "name": "stdout",
     "output_type": "stream",
     "text": [
      "Epoch: 4/16, Train Accuracy: 97.50%, Test Accuracy: 96.50%, Train Loss: 0.1567, Test Loss: 0.1790"
     ]
    },
    {
     "data": {
      "application/vnd.jupyter.widget-view+json": {
       "model_id": "",
       "version_major": 2,
       "version_minor": 0
      },
      "text/plain": [
       "  0%|          | 0/7 [00:00<?, ?it/s]"
      ]
     },
     "metadata": {},
     "output_type": "display_data"
    },
    {
     "name": "stdout",
     "output_type": "stream",
     "text": [
      "Epoch: 5/16, Train Accuracy: 99.00%, Test Accuracy: 97.15%, Train Loss: 0.1271, Test Loss: 0.1544"
     ]
    },
    {
     "data": {
      "application/vnd.jupyter.widget-view+json": {
       "model_id": "",
       "version_major": 2,
       "version_minor": 0
      },
      "text/plain": [
       "  0%|          | 0/7 [00:00<?, ?it/s]"
      ]
     },
     "metadata": {},
     "output_type": "display_data"
    },
    {
     "name": "stdout",
     "output_type": "stream",
     "text": [
      "Epoch: 6/16, Train Accuracy: 99.00%, Test Accuracy: 97.55%, Train Loss: 0.1056, Test Loss: 0.1363"
     ]
    },
    {
     "data": {
      "application/vnd.jupyter.widget-view+json": {
       "model_id": "",
       "version_major": 2,
       "version_minor": 0
      },
      "text/plain": [
       "  0%|          | 0/7 [00:00<?, ?it/s]"
      ]
     },
     "metadata": {},
     "output_type": "display_data"
    },
    {
     "name": "stdout",
     "output_type": "stream",
     "text": [
      "Epoch: 7/16, Train Accuracy: 99.00%, Test Accuracy: 97.80%, Train Loss: 0.0895, Test Loss: 0.1225"
     ]
    },
    {
     "data": {
      "application/vnd.jupyter.widget-view+json": {
       "model_id": "",
       "version_major": 2,
       "version_minor": 0
      },
      "text/plain": [
       "  0%|          | 0/7 [00:00<?, ?it/s]"
      ]
     },
     "metadata": {},
     "output_type": "display_data"
    },
    {
     "name": "stdout",
     "output_type": "stream",
     "text": [
      "Epoch: 8/16, Train Accuracy: 99.00%, Test Accuracy: 98.20%, Train Loss: 0.0769, Test Loss: 0.1102"
     ]
    },
    {
     "data": {
      "application/vnd.jupyter.widget-view+json": {
       "model_id": "",
       "version_major": 2,
       "version_minor": 0
      },
      "text/plain": [
       "  0%|          | 0/7 [00:00<?, ?it/s]"
      ]
     },
     "metadata": {},
     "output_type": "display_data"
    },
    {
     "name": "stdout",
     "output_type": "stream",
     "text": [
      "Epoch: 9/16, Train Accuracy: 99.00%, Test Accuracy: 98.35%, Train Loss: 0.0669, Test Loss: 0.1006"
     ]
    },
    {
     "data": {
      "application/vnd.jupyter.widget-view+json": {
       "model_id": "",
       "version_major": 2,
       "version_minor": 0
      },
      "text/plain": [
       "  0%|          | 0/7 [00:00<?, ?it/s]"
      ]
     },
     "metadata": {},
     "output_type": "display_data"
    },
    {
     "name": "stdout",
     "output_type": "stream",
     "text": [
      "Epoch: 10/16, Train Accuracy: 100.00%, Test Accuracy: 98.30%, Train Loss: 0.0593, Test Loss: 0.0928"
     ]
    },
    {
     "data": {
      "application/vnd.jupyter.widget-view+json": {
       "model_id": "",
       "version_major": 2,
       "version_minor": 0
      },
      "text/plain": [
       "  0%|          | 0/7 [00:00<?, ?it/s]"
      ]
     },
     "metadata": {},
     "output_type": "display_data"
    },
    {
     "name": "stdout",
     "output_type": "stream",
     "text": [
      "Epoch: 11/16, Train Accuracy: 100.00%, Test Accuracy: 98.35%, Train Loss: 0.0531, Test Loss: 0.0866"
     ]
    },
    {
     "data": {
      "application/vnd.jupyter.widget-view+json": {
       "model_id": "",
       "version_major": 2,
       "version_minor": 0
      },
      "text/plain": [
       "  0%|          | 0/7 [00:00<?, ?it/s]"
      ]
     },
     "metadata": {},
     "output_type": "display_data"
    },
    {
     "name": "stdout",
     "output_type": "stream",
     "text": [
      "Epoch: 12/16, Train Accuracy: 100.00%, Test Accuracy: 98.35%, Train Loss: 0.0480, Test Loss: 0.0812"
     ]
    },
    {
     "data": {
      "application/vnd.jupyter.widget-view+json": {
       "model_id": "",
       "version_major": 2,
       "version_minor": 0
      },
      "text/plain": [
       "  0%|          | 0/7 [00:00<?, ?it/s]"
      ]
     },
     "metadata": {},
     "output_type": "display_data"
    },
    {
     "name": "stdout",
     "output_type": "stream",
     "text": [
      "Epoch: 13/16, Train Accuracy: 100.00%, Test Accuracy: 98.45%, Train Loss: 0.0436, Test Loss: 0.0765"
     ]
    },
    {
     "data": {
      "application/vnd.jupyter.widget-view+json": {
       "model_id": "",
       "version_major": 2,
       "version_minor": 0
      },
      "text/plain": [
       "  0%|          | 0/7 [00:00<?, ?it/s]"
      ]
     },
     "metadata": {},
     "output_type": "display_data"
    },
    {
     "name": "stdout",
     "output_type": "stream",
     "text": [
      "Epoch: 14/16, Train Accuracy: 100.00%, Test Accuracy: 98.55%, Train Loss: 0.0400, Test Loss: 0.0725"
     ]
    },
    {
     "data": {
      "application/vnd.jupyter.widget-view+json": {
       "model_id": "",
       "version_major": 2,
       "version_minor": 0
      },
      "text/plain": [
       "  0%|          | 0/7 [00:00<?, ?it/s]"
      ]
     },
     "metadata": {},
     "output_type": "display_data"
    },
    {
     "name": "stdout",
     "output_type": "stream",
     "text": [
      "Epoch: 15/16, Train Accuracy: 100.00%, Test Accuracy: 98.65%, Train Loss: 0.0368, Test Loss: 0.0690"
     ]
    },
    {
     "data": {
      "application/vnd.jupyter.widget-view+json": {
       "model_id": "",
       "version_major": 2,
       "version_minor": 0
      },
      "text/plain": [
       "  0%|          | 0/7 [00:00<?, ?it/s]"
      ]
     },
     "metadata": {},
     "output_type": "display_data"
    },
    {
     "name": "stdout",
     "output_type": "stream",
     "text": [
      "Epoch: 16/16, Train Accuracy: 100.00%, Test Accuracy: 98.65%, Train Loss: 0.0340, Test Loss: 0.0659"
     ]
    }
   ],
   "source": [
    "history={}\n",
    "history = trainer.fit(train_b_loader,test_b_loader,16,1)"
   ]
  }
 ],
 "metadata": {
  "kernelspec": {
   "display_name": "Python 3",
   "language": "python",
   "name": "python3"
  },
  "language_info": {
   "codemirror_mode": {
    "name": "ipython",
    "version": 3
   },
   "file_extension": ".py",
   "mimetype": "text/x-python",
   "name": "python",
   "nbconvert_exporter": "python",
   "pygments_lexer": "ipython3",
   "version": "3.8.6"
  }
 },
 "nbformat": 4,
 "nbformat_minor": 4
}
